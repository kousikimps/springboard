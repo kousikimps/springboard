{
 "cells": [
  {
   "cell_type": "code",
   "execution_count": 1,
   "metadata": {},
   "outputs": [],
   "source": [
    "import requests\n",
    "from bs4 import BeautifulSoup\n",
    "import pandas as pd\n",
    "import numpy as np\n",
    "import matplotlib.pyplot as plt\n",
    "import seaborn as sns\n",
    "import os\n",
    "%matplotlib inline"
   ]
  },
  {
   "cell_type": "code",
   "execution_count": 2,
   "metadata": {},
   "outputs": [],
   "source": [
    "seed_urls = ['https://inshorts.com/en/read/technology',\n",
    "             'https://inshorts.com/en/read/sports',\n",
    "             'https://inshorts.com/en/read/world']"
   ]
  },
  {
   "cell_type": "code",
   "execution_count": 3,
   "metadata": {},
   "outputs": [],
   "source": [
    "def build_dataset(seed_urls):\n",
    "    news_data = []\n",
    "    for url in seed_urls:\n",
    "        news_category = url.split('/')[-1]\n",
    "        data = requests.get(url)\n",
    "        soup = BeautifulSoup(data.content, 'html.parser')\n",
    "        \n",
    "        news_articles = [{'news_headline': headline.find('span', \n",
    "                                                         attrs={\"itemprop\": \"headline\"}).string,\n",
    "                          'news_article': article.find('div', \n",
    "                                                       attrs={\"itemprop\": \"articleBody\"}).string,\n",
    "                          'news_category': news_category}\n",
    "                         \n",
    "                            for headline, article in \n",
    "                             zip(soup.find_all('div', \n",
    "                                               class_=[\"news-card-title news-right-box\"]),\n",
    "                                 soup.find_all('div', \n",
    "                                               class_=[\"news-card-content news-right-box\"]))\n",
    "                        ]\n",
    "        news_data.extend(news_articles)\n",
    "        \n",
    "    df =  pd.DataFrame(news_data)\n",
    "    df = df[['news_headline', 'news_article', 'news_category']]\n",
    "    return df"
   ]
  },
  {
   "cell_type": "code",
   "execution_count": 4,
   "metadata": {},
   "outputs": [
    {
     "data": {
      "text/html": [
       "<div>\n",
       "<style scoped>\n",
       "    .dataframe tbody tr th:only-of-type {\n",
       "        vertical-align: middle;\n",
       "    }\n",
       "\n",
       "    .dataframe tbody tr th {\n",
       "        vertical-align: top;\n",
       "    }\n",
       "\n",
       "    .dataframe thead th {\n",
       "        text-align: right;\n",
       "    }\n",
       "</style>\n",
       "<table border=\"1\" class=\"dataframe\">\n",
       "  <thead>\n",
       "    <tr style=\"text-align: right;\">\n",
       "      <th></th>\n",
       "      <th>news_headline</th>\n",
       "      <th>news_article</th>\n",
       "      <th>news_category</th>\n",
       "    </tr>\n",
       "  </thead>\n",
       "  <tbody>\n",
       "    <tr>\n",
       "      <td>0</td>\n",
       "      <td>OnePlus launches Nord with Snapdragon 765G 5G;...</td>\n",
       "      <td>OnePlus has launched Nord smartphone with star...</td>\n",
       "      <td>technology</td>\n",
       "    </tr>\n",
       "    <tr>\n",
       "      <td>1</td>\n",
       "      <td>Chinese hackers who targeted COVID-19 research...</td>\n",
       "      <td>The two Chinese hackers indicted by the US for...</td>\n",
       "      <td>technology</td>\n",
       "    </tr>\n",
       "    <tr>\n",
       "      <td>2</td>\n",
       "      <td>US charges Chinese hackers for targeting globa...</td>\n",
       "      <td>US Justice Department has indicted 2 Chinese h...</td>\n",
       "      <td>technology</td>\n",
       "    </tr>\n",
       "    <tr>\n",
       "      <td>3</td>\n",
       "      <td>Elon Musk shares new pic with son X AE A-XII, ...</td>\n",
       "      <td>SpaceX CEO Elon Musk took to Twitter to share ...</td>\n",
       "      <td>technology</td>\n",
       "    </tr>\n",
       "    <tr>\n",
       "      <td>4</td>\n",
       "      <td>Ensure strict compliance with ban or face acti...</td>\n",
       "      <td>Government has directed companies to ensure st...</td>\n",
       "      <td>technology</td>\n",
       "    </tr>\n",
       "    <tr>\n",
       "      <td>5</td>\n",
       "      <td>LinkedIn to fire 960 employees worldwide amid ...</td>\n",
       "      <td>Professional networking platform LinkedIn has ...</td>\n",
       "      <td>technology</td>\n",
       "    </tr>\n",
       "    <tr>\n",
       "      <td>6</td>\n",
       "      <td>Pakistan bans Bigo Live app for vulgar videos,...</td>\n",
       "      <td>Pakistan has banned live streaming app Bigo Li...</td>\n",
       "      <td>technology</td>\n",
       "    </tr>\n",
       "    <tr>\n",
       "      <td>7</td>\n",
       "      <td>US blacklists 11 Chinese firms over China's tr...</td>\n",
       "      <td>The US has added 11 Chinese companies to an ex...</td>\n",
       "      <td>technology</td>\n",
       "    </tr>\n",
       "    <tr>\n",
       "      <td>8</td>\n",
       "      <td>Uttarakhand CM invites Google CEO Pichai to se...</td>\n",
       "      <td>Uttarakhand CM Trivendra Singh Rawat has writt...</td>\n",
       "      <td>technology</td>\n",
       "    </tr>\n",
       "    <tr>\n",
       "      <td>9</td>\n",
       "      <td>Tencent's model to predict risk of COVID-19 pa...</td>\n",
       "      <td>Tencent AI Lab and a group of Chinese scientis...</td>\n",
       "      <td>technology</td>\n",
       "    </tr>\n",
       "  </tbody>\n",
       "</table>\n",
       "</div>"
      ],
      "text/plain": [
       "                                       news_headline  \\\n",
       "0  OnePlus launches Nord with Snapdragon 765G 5G;...   \n",
       "1  Chinese hackers who targeted COVID-19 research...   \n",
       "2  US charges Chinese hackers for targeting globa...   \n",
       "3  Elon Musk shares new pic with son X AE A-XII, ...   \n",
       "4  Ensure strict compliance with ban or face acti...   \n",
       "5  LinkedIn to fire 960 employees worldwide amid ...   \n",
       "6  Pakistan bans Bigo Live app for vulgar videos,...   \n",
       "7  US blacklists 11 Chinese firms over China's tr...   \n",
       "8  Uttarakhand CM invites Google CEO Pichai to se...   \n",
       "9  Tencent's model to predict risk of COVID-19 pa...   \n",
       "\n",
       "                                        news_article news_category  \n",
       "0  OnePlus has launched Nord smartphone with star...    technology  \n",
       "1  The two Chinese hackers indicted by the US for...    technology  \n",
       "2  US Justice Department has indicted 2 Chinese h...    technology  \n",
       "3  SpaceX CEO Elon Musk took to Twitter to share ...    technology  \n",
       "4  Government has directed companies to ensure st...    technology  \n",
       "5  Professional networking platform LinkedIn has ...    technology  \n",
       "6  Pakistan has banned live streaming app Bigo Li...    technology  \n",
       "7  The US has added 11 Chinese companies to an ex...    technology  \n",
       "8  Uttarakhand CM Trivendra Singh Rawat has writt...    technology  \n",
       "9  Tencent AI Lab and a group of Chinese scientis...    technology  "
      ]
     },
     "execution_count": 4,
     "metadata": {},
     "output_type": "execute_result"
    }
   ],
   "source": [
    "news_df = build_dataset(seed_urls)\n",
    "news_df.head(10)"
   ]
  },
  {
   "cell_type": "code",
   "execution_count": 5,
   "metadata": {},
   "outputs": [
    {
     "data": {
      "text/plain": [
       "technology    25\n",
       "sports        25\n",
       "world         24\n",
       "Name: news_category, dtype: int64"
      ]
     },
     "execution_count": 5,
     "metadata": {},
     "output_type": "execute_result"
    }
   ],
   "source": [
    "news_df.news_category.value_counts()"
   ]
  },
  {
   "cell_type": "code",
   "execution_count": 6,
   "metadata": {},
   "outputs": [],
   "source": [
    "import spacy\n",
    "import pandas as pd\n",
    "import numpy as np\n",
    "import nltk\n",
    "from nltk.tokenize.toktok import ToktokTokenizer\n",
    "import re\n",
    "from bs4 import BeautifulSoup\n",
    "#from contractions import CONTRACTION_MAP\n",
    "import unicodedata"
   ]
  },
  {
   "cell_type": "code",
   "execution_count": 7,
   "metadata": {},
   "outputs": [],
   "source": [
    "#nlp = spacy.load('en_vectors_web_lg', parse=True, tag=True, entity=True)\n",
    "nlp = spacy.load('en', parse=True, tag=True, entity=True)\n",
    "import en_core_web_sm\n",
    "\n"
   ]
  },
  {
   "cell_type": "code",
   "execution_count": 8,
   "metadata": {},
   "outputs": [],
   "source": [
    "nlp = en_core_web_sm.load()"
   ]
  },
  {
   "cell_type": "code",
   "execution_count": 9,
   "metadata": {},
   "outputs": [],
   "source": [
    "tokenizer = ToktokTokenizer()\n",
    "stopword_list = nltk.corpus.stopwords.words('english')\n",
    "stopword_list.remove('no')\n",
    "stopword_list.remove('not')"
   ]
  },
  {
   "cell_type": "code",
   "execution_count": 10,
   "metadata": {},
   "outputs": [
    {
     "data": {
      "text/plain": [
       "'Some important text'"
      ]
     },
     "execution_count": 10,
     "metadata": {},
     "output_type": "execute_result"
    }
   ],
   "source": [
    "def strip_html_tags(text):\n",
    "    soup = BeautifulSoup(text, \"html.parser\")\n",
    "    stripped_text = soup.get_text()\n",
    "    return stripped_text\n",
    "\n",
    "strip_html_tags('<html><h2>Some important text</h2></html>')"
   ]
  },
  {
   "cell_type": "code",
   "execution_count": 11,
   "metadata": {},
   "outputs": [
    {
     "data": {
      "text/plain": [
       "'Some Accented text'"
      ]
     },
     "execution_count": 11,
     "metadata": {},
     "output_type": "execute_result"
    }
   ],
   "source": [
    "def remove_accented_chars(text):\n",
    "    text = unicodedata.normalize('NFKD', text).encode('ascii', 'ignore').decode('utf-8', 'ignore')\n",
    "    return text\n",
    "\n",
    "remove_accented_chars('Sómě Áccěntěd těxt')"
   ]
  },
  {
   "cell_type": "code",
   "execution_count": 12,
   "metadata": {},
   "outputs": [
    {
     "data": {
      "text/plain": [
       "'\\ndef expand_contractions(text, contraction_mapping=CONTRACTION_MAP):\\n    \\n    contractions_pattern = re.compile(\\'({})\\'.format(\\'|\\'.join(contraction_mapping.keys())), \\n                                      flags=re.IGNORECASE|re.DOTALL)\\n    def expand_match(contraction):\\n        match = contraction.group(0)\\n        first_char = match[0]\\n        expanded_contraction = contraction_mapping.get(match)                                if contraction_mapping.get(match)                                else contraction_mapping.get(match.lower())                       \\n        expanded_contraction = first_char+expanded_contraction[1:]\\n        return expanded_contraction\\n        \\n    expanded_text = contractions_pattern.sub(expand_match, text)\\n    expanded_text = re.sub(\"\\'\", \"\", expanded_text)\\n    return expanded_text\\n\\nexpand_contractions(\"Y\\'all can\\'t expand contractions I\\'d think\")\\n\\n'"
      ]
     },
     "execution_count": 12,
     "metadata": {},
     "output_type": "execute_result"
    }
   ],
   "source": [
    "#unable to install contractions\n",
    "'''\n",
    "def expand_contractions(text, contraction_mapping=CONTRACTION_MAP):\n",
    "    \n",
    "    contractions_pattern = re.compile('({})'.format('|'.join(contraction_mapping.keys())), \n",
    "                                      flags=re.IGNORECASE|re.DOTALL)\n",
    "    def expand_match(contraction):\n",
    "        match = contraction.group(0)\n",
    "        first_char = match[0]\n",
    "        expanded_contraction = contraction_mapping.get(match)\\\n",
    "                                if contraction_mapping.get(match)\\\n",
    "                                else contraction_mapping.get(match.lower())                       \n",
    "        expanded_contraction = first_char+expanded_contraction[1:]\n",
    "        return expanded_contraction\n",
    "        \n",
    "    expanded_text = contractions_pattern.sub(expand_match, text)\n",
    "    expanded_text = re.sub(\"'\", \"\", expanded_text)\n",
    "    return expanded_text\n",
    "\n",
    "expand_contractions(\"Y'all can't expand contractions I'd think\")\n",
    "\n",
    "'''"
   ]
  },
  {
   "cell_type": "code",
   "execution_count": 13,
   "metadata": {},
   "outputs": [
    {
     "data": {
      "text/plain": [
       "'Well this was fun What do you think '"
      ]
     },
     "execution_count": 13,
     "metadata": {},
     "output_type": "execute_result"
    }
   ],
   "source": [
    "def remove_special_characters(text, remove_digits=False):\n",
    "    pattern = r'[^a-zA-z0-9\\s]' if not remove_digits else r'[^a-zA-z\\s]'\n",
    "    text = re.sub(pattern, '', text)\n",
    "    return text\n",
    "\n",
    "remove_special_characters(\"Well this was fun! What do you think? 123#@!\", \n",
    "                          remove_digits=True)"
   ]
  },
  {
   "cell_type": "code",
   "execution_count": 14,
   "metadata": {},
   "outputs": [
    {
     "data": {
      "text/plain": [
       "'My system keep crash hi crash yesterday, our crash daili'"
      ]
     },
     "execution_count": 14,
     "metadata": {},
     "output_type": "execute_result"
    }
   ],
   "source": [
    "def simple_stemmer(text):\n",
    "    ps = nltk.porter.PorterStemmer()\n",
    "    text = ' '.join([ps.stem(word) for word in text.split()])\n",
    "    return text\n",
    "\n",
    "simple_stemmer(\"My system keeps crashing his crashed yesterday, ours crashes daily\")"
   ]
  },
  {
   "cell_type": "code",
   "execution_count": 15,
   "metadata": {},
   "outputs": [
    {
     "data": {
      "text/plain": [
       "'My system keep crash ! his crash yesterday , ours crash daily'"
      ]
     },
     "execution_count": 15,
     "metadata": {},
     "output_type": "execute_result"
    }
   ],
   "source": [
    "def lemmatize_text(text):\n",
    "    text = nlp(text)\n",
    "    text = ' '.join([word.lemma_ if word.lemma_ != '-PRON-' else word.text for word in text])\n",
    "    return text\n",
    "\n",
    "lemmatize_text(\"My system keeps crashing! his crashed yesterday, ours crashes daily\")"
   ]
  },
  {
   "cell_type": "code",
   "execution_count": 16,
   "metadata": {},
   "outputs": [
    {
     "data": {
      "text/plain": [
       "', , stopwords , computer not'"
      ]
     },
     "execution_count": 16,
     "metadata": {},
     "output_type": "execute_result"
    }
   ],
   "source": [
    "def remove_stopwords(text, is_lower_case=False):\n",
    "    tokens = tokenizer.tokenize(text)\n",
    "    tokens = [token.strip() for token in tokens]\n",
    "    if is_lower_case:\n",
    "        filtered_tokens = [token for token in tokens if token not in stopword_list]\n",
    "    else:\n",
    "        filtered_tokens = [token for token in tokens if token.lower() not in stopword_list]\n",
    "    filtered_text = ' '.join(filtered_tokens)    \n",
    "    return filtered_text\n",
    "\n",
    "remove_stopwords(\"The, and, if are stopwords, computer is not\")"
   ]
  },
  {
   "cell_type": "code",
   "execution_count": 17,
   "metadata": {},
   "outputs": [],
   "source": [
    "#Bringing it all together — Building a Text Normalizer\n",
    "def normalize_corpus(corpus, html_stripping=True, contraction_expansion=True,\n",
    "                     accented_char_removal=True, text_lower_case=True, \n",
    "                     text_lemmatization=True, special_char_removal=True, \n",
    "                     stopword_removal=True, remove_digits=True):\n",
    "    \n",
    "    normalized_corpus = []\n",
    "    # normalize each document in the corpus\n",
    "    for doc in corpus:\n",
    "        # strip HTML\n",
    "        if html_stripping:\n",
    "            doc = strip_html_tags(doc)\n",
    "        # remove accented characters\n",
    "        if accented_char_removal:\n",
    "            doc = remove_accented_chars(doc)\n",
    "        # expand contractions    \n",
    "        #if contraction_expansion:\n",
    "        #    doc = expand_contractions(doc)\n",
    "        # lowercase the text    \n",
    "        if text_lower_case:\n",
    "            doc = doc.lower()\n",
    "        # remove extra newlines\n",
    "        doc = re.sub(r'[\\r|\\n|\\r\\n]+', ' ',doc)\n",
    "        # lemmatize text\n",
    "        if text_lemmatization:\n",
    "            doc = lemmatize_text(doc)\n",
    "        # remove special characters and\\or digits    \n",
    "        if special_char_removal:\n",
    "            # insert spaces between special characters to isolate them    \n",
    "            special_char_pattern = re.compile(r'([{.(-)!}])')\n",
    "            doc = special_char_pattern.sub(\" \\\\1 \", doc)\n",
    "            doc = remove_special_characters(doc, remove_digits=remove_digits)  \n",
    "        # remove extra whitespace\n",
    "        doc = re.sub(' +', ' ', doc)\n",
    "        # remove stopwords\n",
    "        if stopword_removal:\n",
    "            doc = remove_stopwords(doc, is_lower_case=text_lower_case)\n",
    "            \n",
    "        normalized_corpus.append(doc)\n",
    "        \n",
    "    return normalized_corpus"
   ]
  },
  {
   "cell_type": "code",
   "execution_count": 18,
   "metadata": {},
   "outputs": [
    {
     "data": {
      "text/html": [
       "<div>\n",
       "<style scoped>\n",
       "    .dataframe tbody tr th:only-of-type {\n",
       "        vertical-align: middle;\n",
       "    }\n",
       "\n",
       "    .dataframe tbody tr th {\n",
       "        vertical-align: top;\n",
       "    }\n",
       "\n",
       "    .dataframe thead th {\n",
       "        text-align: right;\n",
       "    }\n",
       "</style>\n",
       "<table border=\"1\" class=\"dataframe\">\n",
       "  <thead>\n",
       "    <tr style=\"text-align: right;\">\n",
       "      <th></th>\n",
       "      <th>news_headline</th>\n",
       "      <th>news_article</th>\n",
       "      <th>news_category</th>\n",
       "      <th>full_text</th>\n",
       "    </tr>\n",
       "  </thead>\n",
       "  <tbody>\n",
       "    <tr>\n",
       "      <td>0</td>\n",
       "      <td>OnePlus launches Nord with Snapdragon 765G 5G;...</td>\n",
       "      <td>OnePlus has launched Nord smartphone with star...</td>\n",
       "      <td>technology</td>\n",
       "      <td>OnePlus launches Nord with Snapdragon 765G 5G;...</td>\n",
       "    </tr>\n",
       "    <tr>\n",
       "      <td>1</td>\n",
       "      <td>Chinese hackers who targeted COVID-19 research...</td>\n",
       "      <td>The two Chinese hackers indicted by the US for...</td>\n",
       "      <td>technology</td>\n",
       "      <td>Chinese hackers who targeted COVID-19 research...</td>\n",
       "    </tr>\n",
       "    <tr>\n",
       "      <td>2</td>\n",
       "      <td>US charges Chinese hackers for targeting globa...</td>\n",
       "      <td>US Justice Department has indicted 2 Chinese h...</td>\n",
       "      <td>technology</td>\n",
       "      <td>US charges Chinese hackers for targeting globa...</td>\n",
       "    </tr>\n",
       "    <tr>\n",
       "      <td>3</td>\n",
       "      <td>Elon Musk shares new pic with son X AE A-XII, ...</td>\n",
       "      <td>SpaceX CEO Elon Musk took to Twitter to share ...</td>\n",
       "      <td>technology</td>\n",
       "      <td>Elon Musk shares new pic with son X AE A-XII, ...</td>\n",
       "    </tr>\n",
       "    <tr>\n",
       "      <td>4</td>\n",
       "      <td>Ensure strict compliance with ban or face acti...</td>\n",
       "      <td>Government has directed companies to ensure st...</td>\n",
       "      <td>technology</td>\n",
       "      <td>Ensure strict compliance with ban or face acti...</td>\n",
       "    </tr>\n",
       "    <tr>\n",
       "      <td>...</td>\n",
       "      <td>...</td>\n",
       "      <td>...</td>\n",
       "      <td>...</td>\n",
       "      <td>...</td>\n",
       "    </tr>\n",
       "    <tr>\n",
       "      <td>69</td>\n",
       "      <td>Brazil's President Bolsonaro tests COVID-19 +v...</td>\n",
       "      <td>Brazilian President Jair Bolsonaro has tested ...</td>\n",
       "      <td>world</td>\n",
       "      <td>Brazil's President Bolsonaro tests COVID-19 +v...</td>\n",
       "    </tr>\n",
       "    <tr>\n",
       "      <td>70</td>\n",
       "      <td>China sent planes near Taiwan almost daily in ...</td>\n",
       "      <td>Taiwan's Foreign Minister Joseph Wu said that ...</td>\n",
       "      <td>world</td>\n",
       "      <td>China sent planes near Taiwan almost daily in ...</td>\n",
       "    </tr>\n",
       "    <tr>\n",
       "      <td>71</td>\n",
       "      <td>UK didn't vote for Brexit due to Russian inter...</td>\n",
       "      <td>The UK did not vote to leave the European Unio...</td>\n",
       "      <td>world</td>\n",
       "      <td>UK didn't vote for Brexit due to Russian inter...</td>\n",
       "    </tr>\n",
       "    <tr>\n",
       "      <td>72</td>\n",
       "      <td>Pak journalist critical of Army released after...</td>\n",
       "      <td>Pakistani journalist Matiullah Jan, who has be...</td>\n",
       "      <td>world</td>\n",
       "      <td>Pak journalist critical of Army released after...</td>\n",
       "    </tr>\n",
       "    <tr>\n",
       "      <td>73</td>\n",
       "      <td>Malaysian court asks ex-PM Najib to settle $39...</td>\n",
       "      <td>Former Indonesian Prime Minister Najib Razak h...</td>\n",
       "      <td>world</td>\n",
       "      <td>Malaysian court asks ex-PM Najib to settle $39...</td>\n",
       "    </tr>\n",
       "  </tbody>\n",
       "</table>\n",
       "<p>74 rows × 4 columns</p>\n",
       "</div>"
      ],
      "text/plain": [
       "                                        news_headline  \\\n",
       "0   OnePlus launches Nord with Snapdragon 765G 5G;...   \n",
       "1   Chinese hackers who targeted COVID-19 research...   \n",
       "2   US charges Chinese hackers for targeting globa...   \n",
       "3   Elon Musk shares new pic with son X AE A-XII, ...   \n",
       "4   Ensure strict compliance with ban or face acti...   \n",
       "..                                                ...   \n",
       "69  Brazil's President Bolsonaro tests COVID-19 +v...   \n",
       "70  China sent planes near Taiwan almost daily in ...   \n",
       "71  UK didn't vote for Brexit due to Russian inter...   \n",
       "72  Pak journalist critical of Army released after...   \n",
       "73  Malaysian court asks ex-PM Najib to settle $39...   \n",
       "\n",
       "                                         news_article news_category  \\\n",
       "0   OnePlus has launched Nord smartphone with star...    technology   \n",
       "1   The two Chinese hackers indicted by the US for...    technology   \n",
       "2   US Justice Department has indicted 2 Chinese h...    technology   \n",
       "3   SpaceX CEO Elon Musk took to Twitter to share ...    technology   \n",
       "4   Government has directed companies to ensure st...    technology   \n",
       "..                                                ...           ...   \n",
       "69  Brazilian President Jair Bolsonaro has tested ...         world   \n",
       "70  Taiwan's Foreign Minister Joseph Wu said that ...         world   \n",
       "71  The UK did not vote to leave the European Unio...         world   \n",
       "72  Pakistani journalist Matiullah Jan, who has be...         world   \n",
       "73  Former Indonesian Prime Minister Najib Razak h...         world   \n",
       "\n",
       "                                            full_text  \n",
       "0   OnePlus launches Nord with Snapdragon 765G 5G;...  \n",
       "1   Chinese hackers who targeted COVID-19 research...  \n",
       "2   US charges Chinese hackers for targeting globa...  \n",
       "3   Elon Musk shares new pic with son X AE A-XII, ...  \n",
       "4   Ensure strict compliance with ban or face acti...  \n",
       "..                                                ...  \n",
       "69  Brazil's President Bolsonaro tests COVID-19 +v...  \n",
       "70  China sent planes near Taiwan almost daily in ...  \n",
       "71  UK didn't vote for Brexit due to Russian inter...  \n",
       "72  Pak journalist critical of Army released after...  \n",
       "73  Malaysian court asks ex-PM Najib to settle $39...  \n",
       "\n",
       "[74 rows x 4 columns]"
      ]
     },
     "execution_count": 18,
     "metadata": {},
     "output_type": "execute_result"
    }
   ],
   "source": [
    "# combining headline and article text\n",
    "news_df['full_text'] = news_df[\"news_headline\"].map(str)+ '. ' + news_df[\"news_article\"]\n",
    "news_df"
   ]
  },
  {
   "cell_type": "code",
   "execution_count": 19,
   "metadata": {},
   "outputs": [
    {
     "data": {
      "text/plain": [
       "['oneplus launch nord snapdragon g g price start oneplus launch nord smartphone start price base gb ram gb storage variant make available september gb ram gb storage gb ram gb storage variant price respectively make available start august via amazon companys website oneplus nord sports qualcomm snapdragon g g processor',\n",
       " 'chinese hacker target covid research college friend us two chinese hacker indict us target global covid research former classmate study computer technology electrical engineering college sichuan us say li xiaoyu dong jiazhi steal trade secret worth hundred million dollar indictment allege also help chinese government steal foreign military secret add',\n",
       " 'us charge chinese hacker target global covid research us justice department indict chinese hacker steal hundred million dollar worth trade secret company across world indictment say hacker target company publicly know work develop vaccine treatment coronavirus federal prosecutor say steal information know would interest chinese government',\n",
       " 'elon musk share new pic son x ae xii captions pic german spacex ceo elon musk take twitter share picture newborn son x ae xii picture musk see cradle son arm musk caption picture german write das baby kann noch keinen loffel benutzen baby not use spoon yet',\n",
       " 'ensure strict compliance ban face action govt ban app government direct company ensure strict compliance order ban app country rakesh maheshwari group coordinator cyber law e security write e mail company e mail warn ban application still available operate would offence act could warrant penal provision',\n",
       " 'linkedin fire employee worldwide amid covid pandemic professional networking platform linkedin announce fire employee worldwide make company total employee base amid coronavirus pandemic linkedin not immune effect global pandemic linkedin ceo ryan roslansky say reduction plan painful go organisation add',\n",
       " 'pakistan bans bigo live app vulgar video give last warning tiktok pakistan ban live stream app bigo live immoral obscene vulgar content issue final warning china tiktok app ground pakistan telecom authority say receive numerous complaint various segment society nature video app say response app despite warning not satisfactory',\n",
       " 'us blacklist chinese firm china treatment uighur us add chinese company export blacklist allege involvement human right violation china xinjiang support campaign repression uighur muslims say nine firm involve force labour activity involve uighur muslim minority group include nanchang film tech supplier company like apple',\n",
       " 'uttarakhand cm invite google ceo pichai set data centre state uttarakhand cm trivendra singh rawat write google ceo sundar pichai invite company invest set data centre state promise complete support government help make happen say cm add uttarakhand high literacy rate abundance skilled human resource relatively less pollution crime',\n",
       " 'tencent model predict risk covid patient get critically ill tencent ai lab group chinese scientist develop deep learning base model predict risk covid patient develop critical illness model allow clinical staff calculate patient probability develop critical illness within day use ten clinical variable team make predictor available online',\n",
       " 'girl robotic team develop low cost ventilator afghanistan girl robotic team afghanistan develop low cost ventilator base mit design team also receive guideline expert harvard university device portable run battery power hour cost roughly produce team start work model march',\n",
       " 'tech firm reconsider presence hong kong china security law tech company reconsider presence hong kong china introduction national security law tech company handle datum risk due new law police demand remove limit access content may endanger national security non compliance lead pay fine six month prison',\n",
       " 'microsoft plan remove mn metric ton carbon environment microsoft outline step would take become carbon negative include remove million metric ton carbon environment fiscal year plan remove carbon nature technology base solution net negative scientifically verify also say aim eliminate dependency diesel fuel',\n",
       " 'combine market value korean stock less amazon apple market value apple microsoft amazon exceed combine capitalisation south korean company stock exchange total market cap south korean firm trillion apple valuation trillion microsoft amazon worth trillion bloomberg say apple market value overtake south korea january',\n",
       " 'apple entire business carbon neutral ceo tim cook apple ceo tim cook announce company entire business carbon neutral company plan cut emission create innovative carbon removal solution remain footprint notably apple cut carbon footprint million metric ton use recycle content innovation product',\n",
       " 'korea large web firm naver move data centre hong kong south korea large internet portal naver move backup server store user personal datum hong kong singapore naver say well manage protect user datum add delete datum store hong kong early july early tiktok announce decision exit hong kong market',\n",
       " 'twitter ban thousand qanon conspiracy theory account twitter ban thousand qanon conspiracy theory account stop recommend content link qanon limit spread offline harm company already ban account link conspiracy theory block qanon supporter believe deep state traitor plot donald trump link numerous false claim',\n",
       " 'facebook add label trump post mail voting facebook add label us president donald trump post say mail voting would lead corrupt election mail voting unless change court lead corrupt election nation history riggedelection trump write facebook label prompt user get official voting info vote government website',\n",
       " 'uk firm accuse sell spy tech india pak report uk company reportedly accuse sell spy tech government use type technology breach human right law january march british firm license sell spy tech country include india pakistan oman uae kind equipment use track intercept mobile phone area',\n",
       " 'google maps show bike sharing location direction city google maps show docked bikeshare information user look bike direction city around world include london taipei user show walk direction bikeshare station near along live bike availability also show user direction bikeshare station close destination along live dock availability',\n",
       " 'gmail test verified brand logo authenticate email gmail launch brand indicator message identification bimi pilot would allow brand add logo authenticate email bimi pilot organisation authenticate email use dmarc able validate ownership corporate logo brand logo visible avatar slot gmail ui',\n",
       " 'astrology base date app ex apple staff hit app store attempt date app found former apple engineer call struck approve come app store attempt strike use astrology matchmaking process recommend match way understanding user detailed birth chart aspect apple continuously flag app spam mostly due use astrology',\n",
       " 'google female ex staff seek class action status gender pay suit us four former google female employee ask court us let represent peer gender pay disparity suit google allege google pay woman approximately less per year similarly situate man lawsuit also claim google violate california unfair competition law policy',\n",
       " 'tiktok plan hire people us next year tiktok plan hire people us next three year bytedance platform employee us less january plan hire people job engineering sale content moderation customer service focus grow workforce california new york among',\n",
       " 'trump campaign run ad facebook say tiktok spy us president donald trump election campaign run ad facebook claim bytedance tiktok spy user tiktok spy tiktok catch red handed monitor phone clipboard one ad say ad link survey ask user whether tiktok ban us',\n",
       " 'late test ranking release ben stokes become world number one rounder england rounder ben stokes score run take three wicket second test west indies become first england player since flintoff top test rounder ranking west indies jason holder drop one place second spot ravindra jadeja ravichandran ashwin indians top',\n",
       " 'one sixth world know name harper give sachin shoulder wicket recall decision declare sachin tendulkar lbw ball glenn mcgrath hit shoulder umpire daryl harper say look back tenducker decision every day life add recall realise suddenly one sixth world population know name probably not speak highly',\n",
       " 'end could well kumble coaching team india anil kumble step india head coach declare virat kohli reservation style say really happy play significant role one year stint know end could well fine add coach need move say',\n",
       " 'chabuk new batsman ex kkr director recall ganguly st impression msd former kkr team director joy bhattacharya reveal former india captain sourav ganguly tell ms dhoni flight bangladesh dhoni make debut ganguly tell chabuk new batsman see ms dhoni go star bhattacharya add',\n",
       " 'ipl hold likely uae full fledge tournament brijesh patel ipl governing council chairman brijesh patel today say indian premier league likely hold uae add plan full fledged ipl comprise match ipl governing council meet within week day decision include final schedule take say',\n",
       " 'rjd mla falls cricket tournament book video go viral bihar rjd mla shambhu nath yadav book police open cricket tournament participate thus violate social distancing norm impose amid coronavirus pandemic video yadav fall attempt shot go viral follow police initiate action several',\n",
       " 'ipl hold uae confirm ipl governing council day icc postpone year world cup next year ipl governing council chairman brijesh patel confirm edition ipl hold uae apply government permission discuss course action ipl general council add',\n",
       " 'ceiling much domestic cricketer earn ipl dasgupta former india cricketer deep dasgupta opine upper limit define amount domestic player earn ipl add excess amount dish auction distribute among first class cricketer say player allow play overseas league certain restriction',\n",
       " 'not think hardik make test team australia series aakash chopra cricketer turn commentator aakash chopra say hardik pandya make test team australia series not look possible currently back injury not start bowl not play odis may play ts play test play ipl add',\n",
       " 'make mistake not commit crime archer breach covid protocol england pacer jofra archer talk breach covid protocol get drop second test admit make mistake add not commit crime reveal walk outside room first time since place self isolation feel uneasy see camera click every single step take',\n",
       " 'disappointed not get chance play pakistan sa spinner imran tahir lahore bear south africa leg spinner imran tahir say disappoint not get chance play pakistan use play cricket lahore play major role tahir say hard leave pakistan god bless credit play south africa go wife add',\n",
       " 'virat kohli prepare player become superstar irfan pathan former india rounder irfan pathan say team india captain virat kohli prepare five six player become indian cricket superstar kohli captaincy similar sourav ganguly give solid backing player irfan add kohli aura go way back youngster irfan say',\n",
       " 'tera room number kya hai want hit doshi recall miandad threat ex india spinner dilip doshi reveal india bengaluru test pakistan bowl jave miandad batsman tell tera room number kya hai want hit restrict play shot hed try get concentration create sense irritability good doshi add',\n",
       " 'form stoke probably find vaccine coronavirus harsha bhogle react england rounder ben stokes performance second test west indies commentator harsha bhogle tweet stoke get breakthrough think waste cricket ground form probably find vaccine covid early bhogle call stoke monster batting performance test',\n",
       " 'excited whenever ipl happen good weather raina talk indian premier league batsman suresh raina say excited whenever happen good weather go miss fan not allow current situation add world cup postponement speculation ipl may happen september november',\n",
       " 'one time tell kind thing boult play ipl ask play ipl tournament take place new zealand pacer trent boult say make decision talk right people go one time tell kind thing add boult trade mumbai indians delhi capital last year',\n",
       " 'not lover ts slogf ex wi spinner lance gibb former west indies spinner lance gibb say not lover find short format cricket slogfest batsman hit ball place without look see happen [ ts ] limit certain extent add gibbs pick test wicket match',\n",
       " 'team india unbeatable rounder like stoke pathan former india rounder irfan pathan say team india unbeatable anywhere world match win rounder like ben stokes come england defeat west indie second test stoke score run pick three wicket match stoke slam first innings',\n",
       " 'ben stokes mr incredible eng test captain root nd wi test england test captain joe root call ben stoke mr incredible rounder slam first innings second test west indie remain unbeaten second innings [ stokes ] complete game many different gear [ ] disposal [ ] allow keep get well root state',\n",
       " 'week quarantine well define ca ceo hockley india tour aus talk india tour australia later year cricket australia interim ceo nick hockley say two week quarantine well define bcci president sourav ganguly recently say want shorten quarantine period player not want player go far sit hotel room two week ganguly say',\n",
       " 'jofra archer rejoin eng squad testing covid twice england pacer jofra archer put isolation breach team bio secure protocol ahead second test west indie rejoin england squad come pacer test negative coronavirus twice isolation period archer make unauthorised trip home travel manchester car',\n",
       " 'ash good test series play career ricky ponting react twitter post ex australia captain ricky ponting say ashe england good test series play career england lose first test make comeback win second fourth test five match series fifth test four century score total team',\n",
       " 'pitch england change may play two spinner waqar younis pakistan bowling coach waqar younis say behaviour pitch change england team think play two spinner first test england begin august try prepare player effective pitch add no saliva rule waqar say no bowler complain',\n",
       " 'england win nd test vs wi run level test series england win second test three test series west indie run level series chase run win windie bundle run last day pacer stuart broad pick six wicket match england rounder ben stokes slam first innings remain unbeaten second',\n",
       " 'accept icc decision postpone world cup cricket australia cricket australia ca interim ceo nick hockley tuesday say accept icc decision postpone world cup australia later year decision make safety wellbeing fan player official staff mind hockley state ca look forward host safe summer bilateral cricket add',\n",
       " 'chinese hacker target covid research college friend us two chinese hacker indict us target global covid research former classmate study computer technology electrical engineering college sichuan us say li xiaoyu dong jiazhi steal trade secret worth hundred million dollar indictment allege also help chinese government steal foreign military secret add',\n",
       " 'fake covid testing kit seize country interpol interpol say police seize false covid testing kit medical product include disinfectant raid across various country december june official seize fake substandard food drink worth million country operation demonstrate global distribution route affect covid pandemic interpol add',\n",
       " 'us pay bn pfizer biontech mn covid vaccine dose us government pay billion american drugmaker pfizer german company biontech million dose coronavirus vaccine candidate provide americans free coronavirus vaccine candidate bnt jointly develop two company agreement government acquire additional million dose',\n",
       " 'hillary blames trump admin chinese aggression india former us secretary state hillary clinton tuesday blame us president donald trump administration inconsistent foreign policy current chinese territorial aggression people neighbour include india know president incoherent inconsistent foreign policy give china tremendous opportunity say',\n",
       " 'pak govt move islamabad hc appoint lawyer jadhav pak media pakistan government move islamabad high court seek appoint lawyer retire indian navy officer kulbhushan jadhav local medium report pakistan government take decision claim jadhav refuse file review appeal death sentence petition state ihc appoint counsel review reconsider military court verdict',\n",
       " 'injure shoot outside funeral home us chicago fourteen people injure connection shooting tuesday outside funeral home chicago south side us police say mourner outside funeral home fire upon pass suv later crash occupant flee several direction time attendee funeral exchange fire official say',\n",
       " 'us man fake death certificate avoid jail get catch due spelling error year old us criminal defendant try fake death avoid jail fake death certificate lawyer submit spelling error give away prosecutor say registry spell regsitry face four year prison addition pende sentence possession steal car attempt theft truck',\n",
       " 'bring plan ban gay conversion therapy uk pm johnson uk pm boris johnson say plan ban gay conversion therapy say government would conduct study gay conversion therapy bring forward plan prohibit gay conversion therapy absolutely abhorrent no place civilised society no place country add',\n",
       " 'china say us order close consulate houston china say us order close consulate houston call unprecedented escalation hostility china strongly condemn outrageous unjustified move sabotage china us relation chinese foreign ministry spokesperson wang wenbin say come follow report document burn chinese consulate houston',\n",
       " 'sydney police ask woman remove tampon strip search review find sydney police ask woman remove tampon strip search outside casino january police watchdog say law enforcement conduct commission review complaint several woman strip search urge authority apologise humiliating strip search woman ask remove tampon squat cough',\n",
       " 'video show paper burn chinese consulate shut us eyewitness share video claim document material burn chinese consulate houston us order shut witness tell police people burn paper appear trash official say smoke observe outside courtyard area officer not grant access enter building houston police say',\n",
       " 'magnitude earthquake hit near alaska peninsula earthquake magnitude strike south south eastern coast alaskan peninsula today accord us geological survey earthquake epicentre depth km prompt us national tsunami warning center issue tsunami warning warning later cancel pacific tsunami warning center say',\n",
       " 'nz pm sacks minister year long affair staff member new zealand prime minister jacinda ardern wednesday say fire immigration minister iain lees galloway inappropriate relationship subordinate consensual affair take place month period end several month ago say ardern add concern abuse power may take place',\n",
       " 'man free bus hostage ukraine prez endorse animal rights documentary people take hostage bus ukraine free president volodymyr zelenskyy agree hostage taker demand endorse animal right documentary earthling star joaquin phoenix zelenskyy say speak maksym kryvosh minute zelenskyy post six second message facebook tell people watch documentary post later delete',\n",
       " 'close china houston consulate protect americans pvt info us us order closure china consulate houston order protect american intellectual property americans private information us state department spokesperson morgan ortagus say wednesday early china call closure consulate unprecedented escalation hostility china say react countermeasure us not revoke decision',\n",
       " 'us lead world covid testing india second trump united states lead world term covid testing india second position us president donald trump say tremendous amount testing say nasty horrible disease never allow escape china infect world world suffer add',\n",
       " 'brazil allow month trial china potential covid vaccine brazilian health authority tuesday start three month test potential coronavirus vaccine produce chinese pharmaceutical company sinovac biotech dimas covas director butantan institute coordinate study say vaccine prove safe effective brazil would receive million dose china beginning next year',\n",
       " 'willing work china vaccine get good result trump us president donald trump ask administration would collaborate china covid vaccine americans say willing work anybody go get us good result trump say potential vaccine go arrive much soon expect become available immediately us military assist distribution',\n",
       " 'covid pandemic get bad get well trump coronavirus pandemic probably unfortunately get bad get well us president donald trump say first press briefing devote issue since april something not like say thing way add trump also urge public wear mask not able socially distance',\n",
       " 'brazil president bolsonaro test covid rd time brazilian president jair bolsonaro test positive coronavirus third test take since fall ill july secretariat communications ministry say wednesday president bolsonaro still good condition accompany presidency medical team add brazil second bad coronavirus hit country lakh case',\n",
       " 'china send plane near taiwan almost daily june foreign minister taiwan foreign minister joseph wu say chinese military plane intrude air defence identification zone almost every day june intrusion much frequent government disclose public add china appear gradually step military preparedness solve taiwan issue say',\n",
       " 'uk not vote brexit due russian interference pm johnson uk not vote leave european union pressure russia russian interference pm boris johnson say uk vote leave want take back control add johnson comment come parliamentary report say uk fail investigate whether russia interfere referendum',\n",
       " 'pak journalist critical army release abduct pakistani journalist matiullah jan critical pakistani army release around hour abduct outside school islamabad tuesday journalist azaz sye tweet cctv footage purportedly jan abduction show several man civilian clothe black uniform force jan sedan outside main gate',\n",
       " 'malaysian court ask ex pm najib settle mn unpaid taxis former indonesian prime minister najib razak order malaysian court settle around million unpaid taxis seven year still office national newswire bernama report tax authority file suit june recover unpaid taxis najib accumulate include penalty interest']"
      ]
     },
     "execution_count": 19,
     "metadata": {},
     "output_type": "execute_result"
    }
   ],
   "source": [
    "# pre-process text and store the same\n",
    "news_df['clean_text'] = normalize_corpus(news_df['full_text'])\n",
    "norm_corpus = list(news_df['clean_text'])\n",
    "norm_corpus\n"
   ]
  },
  {
   "cell_type": "code",
   "execution_count": 20,
   "metadata": {},
   "outputs": [
    {
     "data": {
      "text/plain": [
       "{'full_text': 'Chinese hackers who targeted COVID-19 research were college friends: US. The two Chinese hackers indicted by the US for targeting global COVID-19 research were former classmates who studied computer technologies at an electrical engineering college in Sichuan, the US said. Li Xiaoyu and Dong Jiazhi stole trade secrets worth hundreds of millions of dollars, the indictment alleges. They also helped the Chinese government in stealing foreign military secrets, it added.',\n",
       " 'clean_text': 'chinese hacker target covid research college friend us two chinese hacker indict us target global covid research former classmate study computer technology electrical engineering college sichuan us say li xiaoyu dong jiazhi steal trade secret worth hundred million dollar indictment allege also help chinese government steal foreign military secret add'}"
      ]
     },
     "execution_count": 20,
     "metadata": {},
     "output_type": "execute_result"
    }
   ],
   "source": [
    "# show a sample news article\n",
    "news_df.iloc[1][['full_text', 'clean_text']].to_dict()"
   ]
  },
  {
   "cell_type": "code",
   "execution_count": null,
   "metadata": {},
   "outputs": [],
   "source": []
  },
  {
   "cell_type": "code",
   "execution_count": 21,
   "metadata": {},
   "outputs": [],
   "source": [
    "news_df.to_csv('news.csv', index=False, encoding='utf-8')"
   ]
  },
  {
   "cell_type": "code",
   "execution_count": 22,
   "metadata": {},
   "outputs": [],
   "source": [
    "# create a basic pre-processed corpus, don't lowercase to get POS context\n",
    "corpus = normalize_corpus(news_df['full_text'], text_lower_case=False, \n",
    "                          text_lemmatization=False, special_char_removal=False)\n"
   ]
  },
  {
   "cell_type": "code",
   "execution_count": 23,
   "metadata": {},
   "outputs": [
    {
     "data": {
      "text/plain": [
       "['OnePlus launches Nord Snapdragon 765G 5G ; price starts 24,999. OnePlus launched Nord smartphone starting price 24,999 base 6GB RAM/64GB storage variant made available September. 8GB RAM/128GB storage 12GB RAM/256GB storage variants priced 27,999 29,999 , respectively , made available starting August 4 via Amazon companys website. OnePlus Nord sports Qualcomm Snapdragon 765G 5G processor .',\n",
       " 'Chinese hackers targeted COVID-19 research college friends : US. two Chinese hackers indicted US targeting global COVID-19 research former classmates studied computer technologies electrical engineering college Sichuan , US said. Li Xiaoyu Dong Jiazhi stole trade secrets worth hundreds millions dollars , indictment alleges. also helped Chinese government stealing foreign military secrets , added .',\n",
       " 'US charges Chinese hackers targeting global COVID-19 research. US Justice Department indicted 2 Chinese hackers stealing hundreds millions dollars worth trade secrets companies across world. indictment says hackers targeted companies publicly known work developing vaccines treatments coronavirus. Federal prosecutors said stole information knew would interest Chinese government .',\n",
       " 'Elon Musk shares new pic son X AE A-XII , captions pic German. SpaceX CEO Elon Musk took Twitter share picture newborn son X AE A-XII. picture , Musk seen cradling son arms. Musk captioned picture German , writing , \" Das baby kann noch keinen loffel benutzen ( baby cannot use spoon yet ) . \"',\n",
       " 'Ensure strict compliance ban face action : Govt 59 banned apps. Government directed companies ensure strict compliance order banning 59 apps country. Rakesh Maheshwari , Group Coordinator Cyber Laws E-Security , wrote e-mail companies. e-mail warned banned application still available operating , would offence Act could warrant penal provisions .',\n",
       " 'LinkedIn fire 960 employees worldwide amid COVID-19 pandemic. Professional networking platform LinkedIn announced firing 960 employees worldwide , make 6 % company \\' total employee base , amid coronavirus pandemic. \" LinkedIn not immune effects global pandemic , \" LinkedIn CEO Ryan Roslansky said. \" reduction \\' planning. painful go organisation , \" added .',\n",
       " 'Pakistan bans Bigo Live app vulgar videos , gives last warning TikTok. Pakistan banned live streaming app Bigo Live immoral , obscene vulgar content issued \" final warning \" China \\' TikTok app grounds. Pakistan \\' telecom authority said received numerous complaints various segments society nature videos apps. said response apps despite warnings \\' satisfactory .',\n",
       " 'US blacklists 11 Chinese firms China \\' treatment Uighurs. US added 11 Chinese companies export blacklist alleged involvement \" human rights violations \" China \\' Xinjiang supporting \" campaign repression \" Uighur Muslims. said nine firms involved forced-labour activities involving Uighurs Muslim minority groups. include Nanchang O-film Tech , supplier companies like Apple .',\n",
       " 'Uttarakhand CM invites Google CEO Pichai set data centres state. Uttarakhand CM Trivendra Singh Rawat written Google CEO Sundar Pichai inviting company invest set data centres state. \" promise complete support government help make happen , \" said. CM added Uttarakhand high literacy rate , abundance skilled human resources relatively less pollution crime .',\n",
       " \"Tencent ' model predict risk COVID-19 patients getting critically ill. Tencent AI Lab group Chinese scientists developed deep learning-based model predict risk COVID-19 patients developing critical illness. model allows clinical staff calculate patients ' probability developing critical illness within 5 , 10 30 days using ten clinical variables. team made predictor available online .\",\n",
       " 'All-girls robotics team develops low-cost ventilator Afghanistan. all-girls robotics team Afghanistan developed low-cost ventilator based MIT design. team also received guidelines experts Harvard University. device portable run battery power 10 hours costs roughly $ 700 produce. team started working model March .',\n",
       " \"Tech firms reconsidering presence Hong Kong China security law. Tech companies reconsidering presence Hong Kong China ' introduction national security law. tech companies handle data risk due new law. police demand remove limit access content may endanger national security , non-compliance leading paying $ 13,000 fine six months prison.\",\n",
       " 'Microsoft plans remove 1 mn metric tons carbon environment. Microsoft outlined steps would take become carbon negative 2030 included removing 1 million metric tons carbon environment fiscal year. plans remove carbon nature technology-based solutions net negative scientifically verified. also said aims eliminate dependency diesel fuel 2030 .',\n",
       " \"Combined market value Korean stocks less Amazon Apple. market value Apple , Microsoft Amazon exceeds combined capitalisation South Korean companies stock exchange. total market cap South Korean firms $ 1.4 trillion Apple ' valuation $ 1.7 trillion Microsoft Amazon worth $ 1.5 trillion , Bloomberg said. Apple ' market value overtook South Korea ' January.\",\n",
       " \"Apple ' entire business carbon neutral 2030 : CEO Tim Cook. Apple CEO Tim Cook announced company ' entire business carbon neutral 2030. company plans cut emissions 75 % 2030 creating innovative carbon removal solutions remaining footprint. Notably , Apple cut carbon footprint 4.3 million metric tons 2019 using recycled content innovations products.\",\n",
       " 'Korea \\' largest web firm Naver moves data centres Hong Kong. South Korea \\' largest internet portal Naver moved backup servers storing users \\' personal data Hong Kong Singapore. Naver said \" better manage protect user data \" . added deleted data stored Hong Kong early July. Earlier , TikTok announced decision exit Hong Kong market .',\n",
       " 'Twitter bans thousands QAnon conspiracy theory accounts. Twitter banned thousands QAnon conspiracy theory accounts stop recommending content linked QAnon limit spread offline harm. company already banned 7,000 accounts linked conspiracy theories blocked 150,000 more. QAnon supporters believe \" deep-state \" traitors plotting Donald Trump linked numerous false claims.',\n",
       " 'Facebook adds label Trump \\' post mail-in voting. Facebook added label US President Donald Trump \\' post said mail-in voting would lead \" CORRUPT ELECTION \" . \" Mail-In Voting , unless changed courts , lead CORRUPT ELECTION Nation \\' History ! #RIGGEDELECTION , \" Trump wrote. Facebook \\' label prompted users \" get official voting info vote \" government website .',\n",
       " 'UK firms accused selling spy tech India , Pak , others : Reports. UK companies reportedly accused selling spy tech governments use type technology breach human rights laws. January March , British firms licensed sell spy tech countries including India , Pakistan , Oman UAE. kinds equipment used track intercept mobile phones area .',\n",
       " 'Google Maps show bike sharing locations directions 10 cities. Google Maps show docked bikeshare information users looking biking directions 10 cities around world , including London Taipei. Users shown walking directions bikeshare station near along live bike availability. also show users directions bikeshare station closest destination along live dock availability .',\n",
       " \"Gmail test verified brand logos authenticated emails. Gmail launch Brand Indicators Message Identification ( BIMI ) pilot would allow brands add logos authenticated emails. BIMI pilot , organisations authenticate emails using DMARC , able validate ownership corporate logos. brands ' logos visible avatar slots Gmail UI.\",\n",
       " 'Astrology-based dating app ex-Apple staff hits App Store 10 attempts. dating app founded former Apple engineers called Struck approved come App Store 10 attempts. Struck uses astrology matchmaking process recommends matches way understanding users \\' detailed birth charts aspects. Apple continuously flagged app \" spam \" mostly due use astrology .',\n",
       " 'Google \\' 4 female ex-staff seek class-action status gender-pay suit US. Four former Google female employees asked court US let represent 10,000 peers gender-pay disparity suit Google. alleged Google paid women approximately $ 16,794 less per year \" similarly-situated man \" . lawsuit also claims Google violated California \\' Unfair Competition Law policy 2011 2017 .',\n",
       " 'TikTok plans hire 10,000 people US next 3 years. TikTok planning hire 10,000 people US next three years. ByteDance-owned platform 1,400 employees US , less 500 January. planning hire people jobs engineering , sales , content moderation customer service , focus growing workforces California New York , among others .',\n",
       " 'Trump campaign runs ads Facebook saying \\' TikTok spying \\' . US President Donald Trump \\' re-election campaign ran ads Facebook claiming ByteDance-owned TikTok \" spying \" users. \" TikTok spying ... TikTok caught red-handed monitoring phone \\' clipboard , \" one ads said. ads linked survey asked users whether TikTok banned US .',\n",
       " \"Latest Test rankings released , Ben Stokes becomes world number one all-rounder. England all-rounder Ben Stokes , scored 254 runs took three wickets second Test West Indies , become first England player since Flintoff top Test all-rounders ' rankings. West Indies ' Jason Holder dropped one place second spot. Ravindra Jadeja ( 3 ) Ravichandran Ashwin ( 5 ) Indians top-10 .\",\n",
       " 'One-sixth world knew name : Harper giving Sachin \\' shoulder-before-wicket \\' out. Recalling decision declare Sachin Tendulkar LBW ball Glenn McGrath hit shoulder , umpire Daryl Harper said , \" look back \\' Tenducker \\' decision every day life. \" added , \" recall realising suddenly one sixth worlds population knew name ... probably didnt speak highly . \"',\n",
       " 'end could better : Kumble coaching Team India. Anil Kumble , stepped India head coach 2017 declaring Virat Kohli reservations style , said \" really happy \" played significant role one-year stint. \" know end could \\' better thats fine , \" added. \" coach needs move , \" said .',\n",
       " '\\' chabuk new batsman : Ex-KKR director recalls Ganguly \\' 1st impression MSD. Former KKR team director Joy Bhattacharya revealed former India captain Sourav Ganguly told MS Dhoni flight 2004 Bangladesh , Dhoni made debut. \" Ganguly told \\' chabuk new batsman. see him. MS Dhoni going star \\' , \" Bhattacharya added .',\n",
       " 'IPL held likely UAE , \\' full-fledged tournament : Brijesh Patel. IPL Governing Council chairman Brijesh Patel today said Indian Premier League likely held UAE. added plan full-fledged IPL comprising 60 matches. \" IPL Governing Council meet within week 10 days decisions ( including final schedule ) taken , \" said .',\n",
       " 'RJD MLA falls cricket tournament , booked video goes viral. Bihar RJD MLA Shambhu Nath Yadav booked police opened cricket tournament participated , thus violating social distancing norms imposed amid coronavirus pandemic. video Yadav falling attempting shot gone viral , following police initiated action several others .',\n",
       " 'IPL 2020 held UAE , confirms IPL Governing Council. day ICC postponed year \\' T20 World Cup next year , IPL Governing Council Chairman Brijesh Patel confirmed 2020 edition IPL held UAE. \" applied government \\' permission. discuss course action IPL General Council , \" added .',\n",
       " 'ceiling much domestic cricketers earn IPL : Dasgupta. Former India cricketer Deep Dasgupta opined upper limit defined amount domestic player earn IPL. added excess amount dished auction distributed among first-class cricketers. said players allowed play overseas leagues certain restrictions .',\n",
       " '\\' think Hardik make Test team Australia series : Aakash Chopra. Cricketer-turned-commentator Aakash Chopra said Hardik Pandya making Test team Australia series \\' look possible currently. \" back injury , not started bowling , not played ODIs , might play T20s play Tests playing IPL , \" added .',\n",
       " \"made mistake , ' commit crime : Archer breaching COVID-19 protocol. England pacer Jofra Archer , talking breaching COVID-19 protocol getting dropped second Test admitted made mistake added ' commit crime. revealed walked outside room first time since placed self-isolation , felt uneasy seeing cameras clicking every single step took.\",\n",
       " 'Disappointed not get chance play Pakistan : SA spinner Imran Tahir. Lahore-born South Africa leg-spinner Imran Tahir said \\' disappointed \\' get chance play Pakistan. \" used play cricket Lahore played major role \\' , \" Tahir said. \" hard leaving Pakistan ... God blessed ... credit playing South Africa goes wife , \" added.',\n",
       " 'Virat Kohli prepare 5-6 players become superstars : Irfan Pathan. Former India all-rounder Irfan Pathan said Team India captain Virat Kohli prepare five-six players become Indian cricket \\' superstars. \" Kohli \\' captaincy similar Sourav Ganguly. gives solid backing players , \" Irfan added. \" Kohli aura goes way back youngsters , \" Irfan said .',\n",
       " 'Tera room number kya hai , want hit : Doshi recalls Miandad \\' threat. Ex-India spinner Dilip Doshi revealed India \\' 1983 Bengaluru Test Pakistan , bowling Javed Miandad , batsman told , \" Tera room number kya hai? ... want hit there. \" \" restrict playing shots ... \\' try get concentration ... create ... sense irritability good , \" Doshi added .',\n",
       " 'form , Stokes probably find vaccine coronavirus : Harsha Bhogle. Reacting England all-rounder Ben Stokes \\' performance second Test West Indies , commentator Harsha Bhogle tweeted , \" Stokes gets breakthroughs too. think wasted cricket ground. form , \\' probably find vaccine COVID-19 ! \" Earlier , Bhogle called Stokes \" monster \" batting performance Test .',\n",
       " '\\' excited whenever IPL happens , \\' good weather : Raina. Talking Indian Premier League , batsman Suresh Raina said , \" excited whenever happens , good weather. \" \" going miss fans \\' allowed current situation , \" added. T20 World Cup \\' postponement , speculations IPL might happen September-November.',\n",
       " '\\' one \\' time tell \\' kind things : Boult playing IPL. asked playing IPL 2020 , tournament takes place , New Zealand pacer Trent Boult said \\' make decision talking \" right people \" . \" \\' going one \\' time tell \\' kind things , \" added. Boult traded Mumbai Indians Delhi Capitals last year .',\n",
       " 'Not lover T20s , \\' \\' slogfest \\' : Ex-WI spinner Lance Gibbs. Former West Indies spinner Lance Gibbs said \\' not \" lover \" T20s finds shortest format cricket \" slogfest \" . \" batsmen hit ball place without looking see happening. ... [ T20s ] ... limited certain extent , \" added. Gibbs picked 309 Test wickets 79 matches .',\n",
       " 'Team India unbeatable all-rounder like Stokes : Pathan. Former India all-rounder Irfan Pathan said Team India \" unbeatable \" anywhere world \" match-winning all-rounder like Ben Stokes \" . comes England defeated West Indies second Test Stokes scoring 254 runs picking three wickets match. Stokes slammed 176 first innings .',\n",
       " 'Ben Stokes Mr Incredible : Eng Test captain Root 2nd WI Test. England Test captain Joe Root called Ben Stokes \" Mr Incredible \" all-rounder slammed 176 356 first innings second Test West Indies remained unbeaten 78 second innings. \" [ Stokes ] complete game ... many different gears ... [ ] ... disposal , [ ] allows ... ... keep getting better , \" Root stated.',\n",
       " '2-week quarantine well-defined : CA CEO Hockley India \\' tour Aus. Talking India \\' tour Australia later year , Cricket Australia \\' interim CEO Nick Hockley said two-week quarantine \" well-defined \" . BCCI President Sourav Ganguly recently said wants shortened quarantine period players. \" \\' want players go far sit hotel rooms two weeks , \" Ganguly said .',\n",
       " \"Jofra Archer rejoins Eng squad testing -ve COVID-19 twice. England pacer Jofra Archer , put isolation breached team ' bio-secure protocols ahead second Test West Indies , rejoined England squad. comes pacer tested negative coronavirus twice isolation period. Archer made unauthorised trip home travelling Manchester car .\",\n",
       " '2005 Ashes best Test series played career : Ricky Ponting. Reacting Twitter post , ex-Australia captain Ricky Ponting said 2005 Ashes England best Test series played career. England lost first Test made comeback , winning second fourth Test five-match series. fifth Test , four centuries scored total teams .',\n",
       " 'Pitches England changed , may play two spinners : Waqar Younis. Pakistan bowling coach Waqar Younis said \" behaviour \" pitches changed England team thinking playing two spinners first Test England , beginning August 5. \" trying prepare players effective pitches , \" added. no-saliva rule , Waqar said , \" No bowler complained . \"',\n",
       " 'England win 2nd Test vs WI 113 runs , level 3-Test series 1-1. England second Test three-Test series West Indies 113 runs level series 1-1. Chasing 312-run win , Windies bundled 198 runs last day pacer Stuart Broad picking six wickets match. England all-rounder Ben Stokes slammed 176 first innings remained unbeaten 78 second.',\n",
       " 'accept ICC \\' decision postpone T20 World Cup : Cricket Australia. Cricket Australia \\' ( CA ) interim CEO Nick Hockley Tuesday said accept ICC \\' decision postpone T20 World Cup Australia later year. \" decision made safety wellbeing fans , players , officials staff mind , \" Hockley stated. \" CA looks forward hosting safe ... summer bilateral cricket , \" added .',\n",
       " 'Chinese hackers targeted COVID-19 research college friends : US. two Chinese hackers indicted US targeting global COVID-19 research former classmates studied computer technologies electrical engineering college Sichuan , US said. Li Xiaoyu Dong Jiazhi stole trade secrets worth hundreds millions dollars , indictment alleges. also helped Chinese government stealing foreign military secrets , added .',\n",
       " '17,000 fake COVID-19 testing kits seized 77 countries : Interpol. Interpol said police seized 17,000 false COVID-19 testing kits medical products , including disinfectants , raids across various countries. December 2019-June 2020 , officials seized fake substandard food drinks worth $ 40 million 77 countries. \" Operation demonstrated global distribution routes ... affected COVID-19 pandemic , \" Interpol added .',\n",
       " 'US pay $ 1.95 bn Pfizer , BioNTech 100 mn COVID-19 vaccine doses. US government paying $ 1.95 billion American drugmaker Pfizer German company BioNTech 100 million doses coronavirus vaccine candidate , provided Americans free. Coronavirus vaccine candidate BNT162 jointly developed two companies. agreement , government acquire additional 500 million doses .',\n",
       " 'Hillary blames Trump admin Chinese aggression India. Former US secretary state Hillary Clinton Tuesday blamed US President Donald Trump administration \\' \" inconsistent \" foreign policy current Chinese territorial aggression people neighbours , including India. \" know , president incoherent , inconsistent foreign policy given ( China ) tremendous opportunity , \" said .',\n",
       " \"Pak govt moves Islamabad HC appoint lawyer Jadhav : Pak media. Pakistan government moved Islamabad High Court seeking appoint lawyer retired Indian Navy officer Kulbhushan Jadhav , local media reported. Pakistan government took decision claimed Jadhav refused file review appeal death sentence. petition stated IHC appoint counsel review reconsider military court ' verdict .\",\n",
       " '14 injured shooting outside funeral home US \\' Chicago. Fourteen people injured connection shooting Tuesday outside funeral home Chicago \\' South Side US , police said. Mourners outside funeral home fired upon passing SUV , later crashed occupants fled several directions. \" time attendees funeral exchanged fire , \" official said.',\n",
       " 'US man fakes death certificate avoid jail , gets caught due spelling error. 25-year-old US criminal defendant tried faking death avoid jail fake death certificate lawyer submitted spelling error gave away. Prosecutors said registry spelled \" Regsitry \" . faces four years prison addition pending sentences possession stolen car attempted theft truck .',\n",
       " 'bring plans ban gay conversion therapy : UK PM Johnson. UK PM Boris Johnson said plans ban gay conversion therapy. said government would conduct study gay conversion therapy bringing forward plans prohibit it. \" Gay conversion therapy absolutely abhorrent , no place civilised society no place country , \" added.',\n",
       " 'China says US ordered close consulate Houston. China said US ordered close consulate Houston , calling \" unprecedented escalation \" hostilities. \" China strongly condemns outrageous unjustified move sabotage China-US relations , \" Chinese Foreign Ministry spokesperson Wang Wenbin said. comes following reports documents burned Chinese consulate Houston .',\n",
       " 'Sydney police asked woman remove tampon 2019 strip-search , review finds. Sydney police asked woman remove tampon strip-search outside casino January 2019 , police watchdog said. Law Enforcement Conduct Commission reviewed complaints several women strip-searched 2018 2019. urged authorities apologise \" humiliating \" strip searches women asked remove tampons \" squat cough \" .',\n",
       " 'Video shows papers burnt Chinese consulate shut US. Eyewitnesses shared videos claiming documents materials burned Chinese consulate Houston US ordered shut down. Witnesses told police people burning papers appeared trash cans , official said. \" Smoke observed outside courtyard area. Officers not granted access enter building , \" Houston Police said .',\n",
       " '7.8 magnitude earthquake hits near Alaska peninsula. earthquake magnitude 7.8 struck south-south eastern coast Alaskan peninsula today , according US Geological Survey. earthquake , epicentre depth 28 km , prompted US National Tsunami Warning Center issue tsunami warning. warning later cancelled , Pacific Tsunami Warning Center said .',\n",
       " 'NZ PM sacks minister year-long affair staff member. New Zealand Prime Minister Jacinda Ardern Wednesday said fired Immigration Minister Iain Lees-Galloway inappropriate relationship subordinate. consensual affair took place 12-month period ended several months ago , said. Ardern added concerned abuse power may taken place.',\n",
       " \"Man frees bus hostages Ukraine Prez endorses animal rights documentary. 13 people taken hostage bus Ukraine freed President Volodymyr Zelenskyy agreed hostage-taker ' demand endorse 2005 animal rights documentary ' Earthlings ' starring Joaquin Phoenix. Zelenskyy said spoke Maksym Kryvosh 7-10 minutes. Zelenskyy posted six-second message Facebook telling people watch documentary , post later deleted .\",\n",
       " 'Closed China \\' Houston consulate protect Americans \\' pvt info : US. US ordered closure China \\' consulate Houston \" order protect American intellectual property Americans \\' private information , \" US State Department spokesperson Morgan Ortagus said Wednesday. Earlier , China called closure consulate \" unprecedented escalation \" hostilities. China said \\' react \" countermeasures \" US \\' revoke decision .',\n",
       " 'US leading world COVID-19 testing , India second : Trump. United States leading world terms COVID-19 testing India second position , US President Donald Trump said. \" \\' tremendous amount testing , \" said. \" \\' nasty , horrible disease \\' never allowed escape China , did. infected world , world suffering , \" added .',\n",
       " \"Brazil allows 3-month trial China ' potential COVID-19 vaccine. Brazilian health authorities Tuesday started three-month test potential coronavirus vaccine produced Chinese pharmaceutical company Sinovac Biotech. Dimas Covas , director Butantan Institute coordinating study , said vaccine proves safe effective , Brazil would receive 120 million doses China beginning next year .\",\n",
       " 'Willing work China vaccine gets good results : Trump. US President Donald Trump , asked administration would collaborate China COVID-19 vaccine Americans said , \" \\' willing work anybody going get us good result. \" Trump said potential vaccine going arrive much sooner expected become available immediately US military assist distribution .',\n",
       " 'COVID-19 pandemic \" get worse \" gets better : Trump. coronavirus pandemic \" probably , unfortunately , get worse gets better , \" US President Donald Trump said first press briefing devoted issue since April. \" Something \\' like saying things , \\' way , \" added. Trump also urged public wear mask not able socially distance .',\n",
       " 'Brazil \\' President Bolsonaro tests COVID-19 +ve 3rd time. Brazilian President Jair Bolsonaro tested positive coronavirus third test taken since falling ill July 7 , secretariat Communications Ministry said Wednesday. \" President Bolsonaro still good condition , accompanied presidency \\' medical team , \" added. Brazil second-worst coronavirus-hit country 21.59 lakh cases .',\n",
       " 'China sent planes near Taiwan almost daily June : Foreign Minister. Taiwan \\' Foreign Minister Joseph Wu said Chinese military planes intruded air defence identification zone \" almost every day \" June. intrusions \" much frequent \" government disclosed public , added. \" China appears gradually stepping military preparedness ... solve Taiwan issue , \" said .',\n",
       " 'UK \\' vote Brexit due Russian interference : PM Johnson. UK not vote leave European Union 2016 \" pressure Russia Russian interference \" , PM Boris Johnson said. UK voted leave \" wanted take back control \" , added. Johnson \\' comments come parliamentary report said UK failed investigate whether Russia interfered referendum .',\n",
       " \"Pak journalist critical Army released abducted. Pakistani journalist Matiullah Jan , critical Pakistani Army , released around 12 hours abducted outside school Islamabad Tuesday , journalist Azaz Syed tweeted. CCTV footages purportedly Jan ' abduction show several men , civilian clothes others black uniforms , forcing Jan sedan outside main gate.\",\n",
       " 'Malaysian court asks ex-PM Najib settle $ 397 mn unpaid taxes. Former Indonesian Prime Minister Najib Razak ordered Malaysian court settle around $ 397 million unpaid taxes seven years still office , national newswire Bernama reported. Tax authorities filed suit June 2019 recover unpaid taxes Najib accumulated 2011 2017 , including penalties interest .']"
      ]
     },
     "execution_count": 23,
     "metadata": {},
     "output_type": "execute_result"
    }
   ],
   "source": [
    "corpus"
   ]
  },
  {
   "cell_type": "code",
   "execution_count": 24,
   "metadata": {},
   "outputs": [],
   "source": [
    "# demo for POS tagging for sample news headline\n",
    "sentence = str(news_df.iloc[1].news_headline)\n",
    "sentence_nlp = nlp(sentence)"
   ]
  },
  {
   "cell_type": "code",
   "execution_count": 25,
   "metadata": {},
   "outputs": [
    {
     "name": "stdout",
     "output_type": "stream",
     "text": [
      "Chinese hackers who targeted COVID-19 research were college friends: US \n",
      " Chinese hackers who targeted COVID-19 research were college friends: US\n"
     ]
    }
   ],
   "source": [
    "print (sentence, '\\n' ,sentence_nlp )"
   ]
  },
  {
   "cell_type": "code",
   "execution_count": 26,
   "metadata": {},
   "outputs": [
    {
     "data": {
      "text/html": [
       "<div>\n",
       "<style scoped>\n",
       "    .dataframe tbody tr th:only-of-type {\n",
       "        vertical-align: middle;\n",
       "    }\n",
       "\n",
       "    .dataframe tbody tr th {\n",
       "        vertical-align: top;\n",
       "    }\n",
       "\n",
       "    .dataframe thead th {\n",
       "        text-align: right;\n",
       "    }\n",
       "</style>\n",
       "<table border=\"1\" class=\"dataframe\">\n",
       "  <thead>\n",
       "    <tr style=\"text-align: right;\">\n",
       "      <th></th>\n",
       "      <th>Word</th>\n",
       "      <th>POS tag</th>\n",
       "      <th>Tag type</th>\n",
       "    </tr>\n",
       "  </thead>\n",
       "  <tbody>\n",
       "    <tr>\n",
       "      <td>0</td>\n",
       "      <td>Chinese</td>\n",
       "      <td>JJ</td>\n",
       "      <td>ADJ</td>\n",
       "    </tr>\n",
       "    <tr>\n",
       "      <td>1</td>\n",
       "      <td>hackers</td>\n",
       "      <td>NNS</td>\n",
       "      <td>NOUN</td>\n",
       "    </tr>\n",
       "    <tr>\n",
       "      <td>2</td>\n",
       "      <td>who</td>\n",
       "      <td>WP</td>\n",
       "      <td>PRON</td>\n",
       "    </tr>\n",
       "    <tr>\n",
       "      <td>3</td>\n",
       "      <td>targeted</td>\n",
       "      <td>VBD</td>\n",
       "      <td>VERB</td>\n",
       "    </tr>\n",
       "    <tr>\n",
       "      <td>4</td>\n",
       "      <td>COVID-19</td>\n",
       "      <td>JJ</td>\n",
       "      <td>ADJ</td>\n",
       "    </tr>\n",
       "    <tr>\n",
       "      <td>5</td>\n",
       "      <td>research</td>\n",
       "      <td>NN</td>\n",
       "      <td>NOUN</td>\n",
       "    </tr>\n",
       "    <tr>\n",
       "      <td>6</td>\n",
       "      <td>were</td>\n",
       "      <td>VBD</td>\n",
       "      <td>AUX</td>\n",
       "    </tr>\n",
       "    <tr>\n",
       "      <td>7</td>\n",
       "      <td>college</td>\n",
       "      <td>NN</td>\n",
       "      <td>NOUN</td>\n",
       "    </tr>\n",
       "    <tr>\n",
       "      <td>8</td>\n",
       "      <td>friends</td>\n",
       "      <td>NNS</td>\n",
       "      <td>NOUN</td>\n",
       "    </tr>\n",
       "    <tr>\n",
       "      <td>9</td>\n",
       "      <td>:</td>\n",
       "      <td>:</td>\n",
       "      <td>PUNCT</td>\n",
       "    </tr>\n",
       "    <tr>\n",
       "      <td>10</td>\n",
       "      <td>US</td>\n",
       "      <td>NNP</td>\n",
       "      <td>PROPN</td>\n",
       "    </tr>\n",
       "  </tbody>\n",
       "</table>\n",
       "</div>"
      ],
      "text/plain": [
       "        Word POS tag Tag type\n",
       "0    Chinese      JJ      ADJ\n",
       "1    hackers     NNS     NOUN\n",
       "2        who      WP     PRON\n",
       "3   targeted     VBD     VERB\n",
       "4   COVID-19      JJ      ADJ\n",
       "5   research      NN     NOUN\n",
       "6       were     VBD      AUX\n",
       "7    college      NN     NOUN\n",
       "8    friends     NNS     NOUN\n",
       "9          :       :    PUNCT\n",
       "10        US     NNP    PROPN"
      ]
     },
     "execution_count": 26,
     "metadata": {},
     "output_type": "execute_result"
    }
   ],
   "source": [
    "# POS tagging with Spacy \n",
    "spacy_pos_tagged = [(word, word.tag_, word.pos_) for word in sentence_nlp]\n",
    "pd.DataFrame(spacy_pos_tagged, columns=['Word', 'POS tag', 'Tag type'])"
   ]
  },
  {
   "cell_type": "code",
   "execution_count": 27,
   "metadata": {},
   "outputs": [
    {
     "data": {
      "text/html": [
       "<div>\n",
       "<style scoped>\n",
       "    .dataframe tbody tr th:only-of-type {\n",
       "        vertical-align: middle;\n",
       "    }\n",
       "\n",
       "    .dataframe tbody tr th {\n",
       "        vertical-align: top;\n",
       "    }\n",
       "\n",
       "    .dataframe thead th {\n",
       "        text-align: right;\n",
       "    }\n",
       "</style>\n",
       "<table border=\"1\" class=\"dataframe\">\n",
       "  <thead>\n",
       "    <tr style=\"text-align: right;\">\n",
       "      <th></th>\n",
       "      <th>Word</th>\n",
       "      <th>POS tag</th>\n",
       "    </tr>\n",
       "  </thead>\n",
       "  <tbody>\n",
       "    <tr>\n",
       "      <td>0</td>\n",
       "      <td>Chinese</td>\n",
       "      <td>JJ</td>\n",
       "    </tr>\n",
       "    <tr>\n",
       "      <td>1</td>\n",
       "      <td>hackers</td>\n",
       "      <td>NNS</td>\n",
       "    </tr>\n",
       "    <tr>\n",
       "      <td>2</td>\n",
       "      <td>who</td>\n",
       "      <td>WP</td>\n",
       "    </tr>\n",
       "    <tr>\n",
       "      <td>3</td>\n",
       "      <td>targeted</td>\n",
       "      <td>VBD</td>\n",
       "    </tr>\n",
       "    <tr>\n",
       "      <td>4</td>\n",
       "      <td>COVID-19</td>\n",
       "      <td>NNP</td>\n",
       "    </tr>\n",
       "    <tr>\n",
       "      <td>5</td>\n",
       "      <td>research</td>\n",
       "      <td>NN</td>\n",
       "    </tr>\n",
       "    <tr>\n",
       "      <td>6</td>\n",
       "      <td>were</td>\n",
       "      <td>VBD</td>\n",
       "    </tr>\n",
       "    <tr>\n",
       "      <td>7</td>\n",
       "      <td>college</td>\n",
       "      <td>NN</td>\n",
       "    </tr>\n",
       "    <tr>\n",
       "      <td>8</td>\n",
       "      <td>friends:</td>\n",
       "      <td>NNS</td>\n",
       "    </tr>\n",
       "    <tr>\n",
       "      <td>9</td>\n",
       "      <td>US</td>\n",
       "      <td>VBP</td>\n",
       "    </tr>\n",
       "  </tbody>\n",
       "</table>\n",
       "</div>"
      ],
      "text/plain": [
       "       Word POS tag\n",
       "0   Chinese      JJ\n",
       "1   hackers     NNS\n",
       "2       who      WP\n",
       "3  targeted     VBD\n",
       "4  COVID-19     NNP\n",
       "5  research      NN\n",
       "6      were     VBD\n",
       "7   college      NN\n",
       "8  friends:     NNS\n",
       "9        US     VBP"
      ]
     },
     "execution_count": 27,
     "metadata": {},
     "output_type": "execute_result"
    }
   ],
   "source": [
    "# POS tagging with nltk\n",
    "nltk_pos_tagged = nltk.pos_tag(sentence.split())\n",
    "pd.DataFrame(nltk_pos_tagged, columns=['Word', 'POS tag'])"
   ]
  },
  {
   "cell_type": "code",
   "execution_count": 28,
   "metadata": {},
   "outputs": [],
   "source": [
    "#Shallow Parsing or Chunking\n",
    "from nltk.corpus import conll2000"
   ]
  },
  {
   "cell_type": "code",
   "execution_count": null,
   "metadata": {},
   "outputs": [],
   "source": []
  },
  {
   "cell_type": "code",
   "execution_count": 29,
   "metadata": {},
   "outputs": [],
   "source": [
    "data = conll2000.chunked_sents()\n",
    "train_data = data[:10900]\n",
    "test_data = data[10900:] "
   ]
  },
  {
   "cell_type": "code",
   "execution_count": 30,
   "metadata": {},
   "outputs": [
    {
     "name": "stdout",
     "output_type": "stream",
     "text": [
      "10900 48\n",
      "(S\n",
      "  Chancellor/NNP\n",
      "  (PP of/IN)\n",
      "  (NP the/DT Exchequer/NNP)\n",
      "  (NP Nigel/NNP Lawson/NNP)\n",
      "  (NP 's/POS restated/VBN commitment/NN)\n",
      "  (PP to/TO)\n",
      "  (NP a/DT firm/NN monetary/JJ policy/NN)\n",
      "  (VP has/VBZ helped/VBN to/TO prevent/VB)\n",
      "  (NP a/DT freefall/NN)\n",
      "  (PP in/IN)\n",
      "  (NP sterling/NN)\n",
      "  (PP over/IN)\n",
      "  (NP the/DT past/JJ week/NN)\n",
      "  ./.)\n"
     ]
    }
   ],
   "source": [
    "print(len(train_data), len(test_data))\n",
    "print(train_data[1]) "
   ]
  },
  {
   "cell_type": "code",
   "execution_count": 31,
   "metadata": {},
   "outputs": [],
   "source": [
    "from nltk.chunk.util import tree2conlltags, conlltags2tree\n"
   ]
  },
  {
   "cell_type": "code",
   "execution_count": 32,
   "metadata": {},
   "outputs": [
    {
     "data": {
      "text/plain": [
       "[('Chancellor', 'NNP', 'O'),\n",
       " ('of', 'IN', 'B-PP'),\n",
       " ('the', 'DT', 'B-NP'),\n",
       " ('Exchequer', 'NNP', 'I-NP'),\n",
       " ('Nigel', 'NNP', 'B-NP'),\n",
       " ('Lawson', 'NNP', 'I-NP'),\n",
       " (\"'s\", 'POS', 'B-NP'),\n",
       " ('restated', 'VBN', 'I-NP'),\n",
       " ('commitment', 'NN', 'I-NP'),\n",
       " ('to', 'TO', 'B-PP'),\n",
       " ('a', 'DT', 'B-NP'),\n",
       " ('firm', 'NN', 'I-NP'),\n",
       " ('monetary', 'JJ', 'I-NP'),\n",
       " ('policy', 'NN', 'I-NP'),\n",
       " ('has', 'VBZ', 'B-VP'),\n",
       " ('helped', 'VBN', 'I-VP'),\n",
       " ('to', 'TO', 'I-VP'),\n",
       " ('prevent', 'VB', 'I-VP'),\n",
       " ('a', 'DT', 'B-NP'),\n",
       " ('freefall', 'NN', 'I-NP'),\n",
       " ('in', 'IN', 'B-PP'),\n",
       " ('sterling', 'NN', 'B-NP'),\n",
       " ('over', 'IN', 'B-PP'),\n",
       " ('the', 'DT', 'B-NP'),\n",
       " ('past', 'JJ', 'I-NP'),\n",
       " ('week', 'NN', 'I-NP'),\n",
       " ('.', '.', 'O')]"
      ]
     },
     "execution_count": 32,
     "metadata": {},
     "output_type": "execute_result"
    }
   ],
   "source": [
    "wtc = tree2conlltags(train_data[1])\n",
    "wtc"
   ]
  },
  {
   "cell_type": "code",
   "execution_count": 33,
   "metadata": {},
   "outputs": [
    {
     "data": {
      "text/plain": [
       "Chinese hackers who targeted COVID-19 research were college friends: US. The two Chinese hackers indicted by the US for targeting global COVID-19 research were former classmates who studied computer technologies at an electrical engineering college in Sichuan, the US said. Li Xiaoyu and Dong Jiazhi stole trade secrets worth hundreds of millions of dollars, the indictment alleges. They also helped the Chinese government in stealing foreign military secrets, it added."
      ]
     },
     "execution_count": 33,
     "metadata": {},
     "output_type": "execute_result"
    }
   ],
   "source": [
    "#Named Entity Recognition\n",
    "sentence = str(news_df.iloc[1].full_text)\n",
    "sentence_nlp = nlp(sentence)\n",
    "sentence_nlp"
   ]
  },
  {
   "cell_type": "code",
   "execution_count": 34,
   "metadata": {},
   "outputs": [
    {
     "name": "stdout",
     "output_type": "stream",
     "text": [
      "[(Chinese, 'NORP'), (US, 'GPE'), (two, 'CARDINAL'), (Chinese, 'NORP'), (US, 'GPE'), (Sichuan, 'GPE'), (US, 'GPE'), (Li, 'PERSON'), (Xiaoyu, 'PERSON'), (Dong, 'PERSON'), (Jiazhi, 'PERSON'), (hundreds, 'MONEY'), (of, 'MONEY'), (millions, 'MONEY'), (of, 'MONEY'), (dollars, 'MONEY'), (Chinese, 'NORP')]\n"
     ]
    },
    {
     "data": {
      "text/html": [
       "<span class=\"tex2jax_ignore\"><div class=\"entities\" style=\"line-height: 2.5; direction: ltr\">\n",
       "<mark class=\"entity\" style=\"background: #c887fb; padding: 0.45em 0.6em; margin: 0 0.25em; line-height: 1; border-radius: 0.35em;\">\n",
       "    Chinese\n",
       "    <span style=\"font-size: 0.8em; font-weight: bold; line-height: 1; border-radius: 0.35em; text-transform: uppercase; vertical-align: middle; margin-left: 0.5rem\">NORP</span>\n",
       "</mark>\n",
       " hackers who targeted COVID-19 research were college friends: \n",
       "<mark class=\"entity\" style=\"background: #feca74; padding: 0.45em 0.6em; margin: 0 0.25em; line-height: 1; border-radius: 0.35em;\">\n",
       "    US\n",
       "    <span style=\"font-size: 0.8em; font-weight: bold; line-height: 1; border-radius: 0.35em; text-transform: uppercase; vertical-align: middle; margin-left: 0.5rem\">GPE</span>\n",
       "</mark>\n",
       ". The \n",
       "<mark class=\"entity\" style=\"background: #e4e7d2; padding: 0.45em 0.6em; margin: 0 0.25em; line-height: 1; border-radius: 0.35em;\">\n",
       "    two\n",
       "    <span style=\"font-size: 0.8em; font-weight: bold; line-height: 1; border-radius: 0.35em; text-transform: uppercase; vertical-align: middle; margin-left: 0.5rem\">CARDINAL</span>\n",
       "</mark>\n",
       " \n",
       "<mark class=\"entity\" style=\"background: #c887fb; padding: 0.45em 0.6em; margin: 0 0.25em; line-height: 1; border-radius: 0.35em;\">\n",
       "    Chinese\n",
       "    <span style=\"font-size: 0.8em; font-weight: bold; line-height: 1; border-radius: 0.35em; text-transform: uppercase; vertical-align: middle; margin-left: 0.5rem\">NORP</span>\n",
       "</mark>\n",
       " hackers indicted by the \n",
       "<mark class=\"entity\" style=\"background: #feca74; padding: 0.45em 0.6em; margin: 0 0.25em; line-height: 1; border-radius: 0.35em;\">\n",
       "    US\n",
       "    <span style=\"font-size: 0.8em; font-weight: bold; line-height: 1; border-radius: 0.35em; text-transform: uppercase; vertical-align: middle; margin-left: 0.5rem\">GPE</span>\n",
       "</mark>\n",
       " for targeting global COVID-19 research were former classmates who studied computer technologies at an electrical engineering college in \n",
       "<mark class=\"entity\" style=\"background: #feca74; padding: 0.45em 0.6em; margin: 0 0.25em; line-height: 1; border-radius: 0.35em;\">\n",
       "    Sichuan\n",
       "    <span style=\"font-size: 0.8em; font-weight: bold; line-height: 1; border-radius: 0.35em; text-transform: uppercase; vertical-align: middle; margin-left: 0.5rem\">GPE</span>\n",
       "</mark>\n",
       ", the \n",
       "<mark class=\"entity\" style=\"background: #feca74; padding: 0.45em 0.6em; margin: 0 0.25em; line-height: 1; border-radius: 0.35em;\">\n",
       "    US\n",
       "    <span style=\"font-size: 0.8em; font-weight: bold; line-height: 1; border-radius: 0.35em; text-transform: uppercase; vertical-align: middle; margin-left: 0.5rem\">GPE</span>\n",
       "</mark>\n",
       " said. \n",
       "<mark class=\"entity\" style=\"background: #aa9cfc; padding: 0.45em 0.6em; margin: 0 0.25em; line-height: 1; border-radius: 0.35em;\">\n",
       "    Li Xiaoyu\n",
       "    <span style=\"font-size: 0.8em; font-weight: bold; line-height: 1; border-radius: 0.35em; text-transform: uppercase; vertical-align: middle; margin-left: 0.5rem\">PERSON</span>\n",
       "</mark>\n",
       " and \n",
       "<mark class=\"entity\" style=\"background: #aa9cfc; padding: 0.45em 0.6em; margin: 0 0.25em; line-height: 1; border-radius: 0.35em;\">\n",
       "    Dong Jiazhi\n",
       "    <span style=\"font-size: 0.8em; font-weight: bold; line-height: 1; border-radius: 0.35em; text-transform: uppercase; vertical-align: middle; margin-left: 0.5rem\">PERSON</span>\n",
       "</mark>\n",
       " stole trade secrets worth \n",
       "<mark class=\"entity\" style=\"background: #e4e7d2; padding: 0.45em 0.6em; margin: 0 0.25em; line-height: 1; border-radius: 0.35em;\">\n",
       "    hundreds of millions of dollars\n",
       "    <span style=\"font-size: 0.8em; font-weight: bold; line-height: 1; border-radius: 0.35em; text-transform: uppercase; vertical-align: middle; margin-left: 0.5rem\">MONEY</span>\n",
       "</mark>\n",
       ", the indictment alleges. They also helped the \n",
       "<mark class=\"entity\" style=\"background: #c887fb; padding: 0.45em 0.6em; margin: 0 0.25em; line-height: 1; border-radius: 0.35em;\">\n",
       "    Chinese\n",
       "    <span style=\"font-size: 0.8em; font-weight: bold; line-height: 1; border-radius: 0.35em; text-transform: uppercase; vertical-align: middle; margin-left: 0.5rem\">NORP</span>\n",
       "</mark>\n",
       " government in stealing foreign military secrets, it added.</div></span>"
      ],
      "text/plain": [
       "<IPython.core.display.HTML object>"
      ]
     },
     "metadata": {},
     "output_type": "display_data"
    }
   ],
   "source": [
    "from spacy import displacy\n",
    "\n",
    "# print named entities in article\n",
    "print([(word, word.ent_type_) for word in sentence_nlp if word.ent_type_])\n",
    "\n",
    "# visualize named entities\n",
    "displacy.render(sentence_nlp, style='ent', jupyter=True)"
   ]
  },
  {
   "cell_type": "code",
   "execution_count": 35,
   "metadata": {},
   "outputs": [],
   "source": [
    "named_entities = []\n",
    "for sentence in corpus:\n",
    "    temp_entity_name = ''\n",
    "    temp_named_entity = None\n",
    "    sentence = nlp(sentence)\n",
    "    for word in sentence:\n",
    "        term = word.text \n",
    "        tag = word.ent_type_\n",
    "        if tag:\n",
    "            temp_entity_name = ' '.join([temp_entity_name, term]).strip()\n",
    "            temp_named_entity = (temp_entity_name, tag)\n",
    "        else:\n",
    "            if temp_named_entity:\n",
    "                named_entities.append(temp_named_entity)\n",
    "                temp_entity_name = ''\n",
    "                temp_named_entity = None\n",
    "entity_frame = pd.DataFrame(named_entities, \n",
    "                            columns=['Entity Name', 'Entity Type'])"
   ]
  },
  {
   "cell_type": "code",
   "execution_count": 36,
   "metadata": {},
   "outputs": [
    {
     "data": {
      "text/html": [
       "<div>\n",
       "<style scoped>\n",
       "    .dataframe tbody tr th:only-of-type {\n",
       "        vertical-align: middle;\n",
       "    }\n",
       "\n",
       "    .dataframe tbody tr th {\n",
       "        vertical-align: top;\n",
       "    }\n",
       "\n",
       "    .dataframe thead th {\n",
       "        text-align: right;\n",
       "    }\n",
       "</style>\n",
       "<table border=\"1\" class=\"dataframe\">\n",
       "  <thead>\n",
       "    <tr style=\"text-align: right;\">\n",
       "      <th></th>\n",
       "      <th>Entity Name</th>\n",
       "      <th>Entity Type</th>\n",
       "    </tr>\n",
       "  </thead>\n",
       "  <tbody>\n",
       "    <tr>\n",
       "      <td>0</td>\n",
       "      <td>24,999</td>\n",
       "      <td>CARDINAL</td>\n",
       "    </tr>\n",
       "    <tr>\n",
       "      <td>1</td>\n",
       "      <td>Nord</td>\n",
       "      <td>ORG</td>\n",
       "    </tr>\n",
       "    <tr>\n",
       "      <td>2</td>\n",
       "      <td>24,999</td>\n",
       "      <td>CARDINAL</td>\n",
       "    </tr>\n",
       "    <tr>\n",
       "      <td>3</td>\n",
       "      <td>September</td>\n",
       "      <td>DATE</td>\n",
       "    </tr>\n",
       "    <tr>\n",
       "      <td>4</td>\n",
       "      <td>8</td>\n",
       "      <td>CARDINAL</td>\n",
       "    </tr>\n",
       "    <tr>\n",
       "      <td>...</td>\n",
       "      <td>...</td>\n",
       "      <td>...</td>\n",
       "    </tr>\n",
       "    <tr>\n",
       "      <td>622</td>\n",
       "      <td>seven years</td>\n",
       "      <td>DATE</td>\n",
       "    </tr>\n",
       "    <tr>\n",
       "      <td>623</td>\n",
       "      <td>Bernama</td>\n",
       "      <td>ORG</td>\n",
       "    </tr>\n",
       "    <tr>\n",
       "      <td>624</td>\n",
       "      <td>June 2019</td>\n",
       "      <td>DATE</td>\n",
       "    </tr>\n",
       "    <tr>\n",
       "      <td>625</td>\n",
       "      <td>Najib</td>\n",
       "      <td>ORG</td>\n",
       "    </tr>\n",
       "    <tr>\n",
       "      <td>626</td>\n",
       "      <td>2011 2017</td>\n",
       "      <td>DATE</td>\n",
       "    </tr>\n",
       "  </tbody>\n",
       "</table>\n",
       "<p>627 rows × 2 columns</p>\n",
       "</div>"
      ],
      "text/plain": [
       "     Entity Name Entity Type\n",
       "0         24,999    CARDINAL\n",
       "1           Nord         ORG\n",
       "2         24,999    CARDINAL\n",
       "3      September        DATE\n",
       "4              8    CARDINAL\n",
       "..           ...         ...\n",
       "622  seven years        DATE\n",
       "623      Bernama         ORG\n",
       "624    June 2019        DATE\n",
       "625        Najib         ORG\n",
       "626    2011 2017        DATE\n",
       "\n",
       "[627 rows x 2 columns]"
      ]
     },
     "execution_count": 36,
     "metadata": {},
     "output_type": "execute_result"
    }
   ],
   "source": [
    "entity_frame"
   ]
  },
  {
   "cell_type": "code",
   "execution_count": 37,
   "metadata": {},
   "outputs": [
    {
     "data": {
      "text/html": [
       "<div>\n",
       "<style scoped>\n",
       "    .dataframe tbody tr th:only-of-type {\n",
       "        vertical-align: middle;\n",
       "    }\n",
       "\n",
       "    .dataframe tbody tr th {\n",
       "        vertical-align: top;\n",
       "    }\n",
       "\n",
       "    .dataframe thead th {\n",
       "        text-align: right;\n",
       "    }\n",
       "</style>\n",
       "<table border=\"1\" class=\"dataframe\">\n",
       "  <thead>\n",
       "    <tr style=\"text-align: right;\">\n",
       "      <th></th>\n",
       "      <th>0</th>\n",
       "      <th>1</th>\n",
       "      <th>2</th>\n",
       "      <th>3</th>\n",
       "      <th>4</th>\n",
       "      <th>5</th>\n",
       "      <th>6</th>\n",
       "      <th>7</th>\n",
       "      <th>8</th>\n",
       "      <th>9</th>\n",
       "      <th>10</th>\n",
       "      <th>11</th>\n",
       "      <th>12</th>\n",
       "      <th>13</th>\n",
       "      <th>14</th>\n",
       "    </tr>\n",
       "  </thead>\n",
       "  <tbody>\n",
       "    <tr>\n",
       "      <td>Entity Name</td>\n",
       "      <td>US</td>\n",
       "      <td>China</td>\n",
       "      <td>Chinese</td>\n",
       "      <td>England</td>\n",
       "      <td>India</td>\n",
       "      <td>Pakistan</td>\n",
       "      <td>IPL</td>\n",
       "      <td>Apple</td>\n",
       "      <td>Google</td>\n",
       "      <td>UK</td>\n",
       "      <td>Ben Stokes</td>\n",
       "      <td>Donald Trump</td>\n",
       "      <td>Houston</td>\n",
       "      <td>one</td>\n",
       "      <td>Twitter</td>\n",
       "    </tr>\n",
       "    <tr>\n",
       "      <td>Entity Type</td>\n",
       "      <td>GPE</td>\n",
       "      <td>GPE</td>\n",
       "      <td>NORP</td>\n",
       "      <td>GPE</td>\n",
       "      <td>GPE</td>\n",
       "      <td>GPE</td>\n",
       "      <td>ORG</td>\n",
       "      <td>ORG</td>\n",
       "      <td>ORG</td>\n",
       "      <td>GPE</td>\n",
       "      <td>PERSON</td>\n",
       "      <td>PERSON</td>\n",
       "      <td>GPE</td>\n",
       "      <td>CARDINAL</td>\n",
       "      <td>ORG</td>\n",
       "    </tr>\n",
       "    <tr>\n",
       "      <td>Frequency</td>\n",
       "      <td>33</td>\n",
       "      <td>19</td>\n",
       "      <td>14</td>\n",
       "      <td>13</td>\n",
       "      <td>12</td>\n",
       "      <td>10</td>\n",
       "      <td>9</td>\n",
       "      <td>9</td>\n",
       "      <td>7</td>\n",
       "      <td>7</td>\n",
       "      <td>6</td>\n",
       "      <td>6</td>\n",
       "      <td>5</td>\n",
       "      <td>4</td>\n",
       "      <td>4</td>\n",
       "    </tr>\n",
       "  </tbody>\n",
       "</table>\n",
       "</div>"
      ],
      "text/plain": [
       "               0      1        2        3      4         5    6      7  \\\n",
       "Entity Name   US  China  Chinese  England  India  Pakistan  IPL  Apple   \n",
       "Entity Type  GPE    GPE     NORP      GPE    GPE       GPE  ORG    ORG   \n",
       "Frequency     33     19       14       13     12        10    9      9   \n",
       "\n",
       "                  8    9          10            11       12        13       14  \n",
       "Entity Name  Google   UK  Ben Stokes  Donald Trump  Houston       one  Twitter  \n",
       "Entity Type     ORG  GPE      PERSON        PERSON      GPE  CARDINAL      ORG  \n",
       "Frequency         7    7           6             6        5         4        4  "
      ]
     },
     "execution_count": 37,
     "metadata": {},
     "output_type": "execute_result"
    }
   ],
   "source": [
    "#get the top named entities\n",
    "top_entities = (entity_frame.groupby(by=['Entity Name', 'Entity Type'])\n",
    "                           .size()\n",
    "                           .sort_values(ascending=False)\n",
    "                           .reset_index().rename(columns={0 : 'Frequency'}))\n",
    "top_entities.T.iloc[:,:15]"
   ]
  },
  {
   "cell_type": "code",
   "execution_count": 38,
   "metadata": {},
   "outputs": [
    {
     "data": {
      "text/html": [
       "<div>\n",
       "<style scoped>\n",
       "    .dataframe tbody tr th:only-of-type {\n",
       "        vertical-align: middle;\n",
       "    }\n",
       "\n",
       "    .dataframe tbody tr th {\n",
       "        vertical-align: top;\n",
       "    }\n",
       "\n",
       "    .dataframe thead th {\n",
       "        text-align: right;\n",
       "    }\n",
       "</style>\n",
       "<table border=\"1\" class=\"dataframe\">\n",
       "  <thead>\n",
       "    <tr style=\"text-align: right;\">\n",
       "      <th></th>\n",
       "      <th>0</th>\n",
       "      <th>1</th>\n",
       "      <th>2</th>\n",
       "      <th>3</th>\n",
       "      <th>4</th>\n",
       "      <th>5</th>\n",
       "      <th>6</th>\n",
       "      <th>7</th>\n",
       "      <th>8</th>\n",
       "      <th>9</th>\n",
       "      <th>10</th>\n",
       "      <th>11</th>\n",
       "      <th>12</th>\n",
       "      <th>13</th>\n",
       "      <th>14</th>\n",
       "    </tr>\n",
       "  </thead>\n",
       "  <tbody>\n",
       "    <tr>\n",
       "      <td>Entity Type</td>\n",
       "      <td>GPE</td>\n",
       "      <td>ORG</td>\n",
       "      <td>PERSON</td>\n",
       "      <td>CARDINAL</td>\n",
       "      <td>DATE</td>\n",
       "      <td>NORP</td>\n",
       "      <td>ORDINAL</td>\n",
       "      <td>MONEY</td>\n",
       "      <td>PRODUCT</td>\n",
       "      <td>QUANTITY</td>\n",
       "      <td>TIME</td>\n",
       "      <td>LOC</td>\n",
       "      <td>WORK_OF_ART</td>\n",
       "      <td>LAW</td>\n",
       "      <td>FAC</td>\n",
       "    </tr>\n",
       "    <tr>\n",
       "      <td>Frequency</td>\n",
       "      <td>151</td>\n",
       "      <td>118</td>\n",
       "      <td>117</td>\n",
       "      <td>69</td>\n",
       "      <td>65</td>\n",
       "      <td>47</td>\n",
       "      <td>19</td>\n",
       "      <td>11</td>\n",
       "      <td>6</td>\n",
       "      <td>5</td>\n",
       "      <td>4</td>\n",
       "      <td>4</td>\n",
       "      <td>3</td>\n",
       "      <td>2</td>\n",
       "      <td>2</td>\n",
       "    </tr>\n",
       "  </tbody>\n",
       "</table>\n",
       "</div>"
      ],
      "text/plain": [
       "               0    1       2         3     4     5        6      7        8  \\\n",
       "Entity Type  GPE  ORG  PERSON  CARDINAL  DATE  NORP  ORDINAL  MONEY  PRODUCT   \n",
       "Frequency    151  118     117        69    65    47       19     11        6   \n",
       "\n",
       "                    9    10   11           12   13   14  \n",
       "Entity Type  QUANTITY  TIME  LOC  WORK_OF_ART  LAW  FAC  \n",
       "Frequency           5     4    4            3    2    2  "
      ]
     },
     "execution_count": 38,
     "metadata": {},
     "output_type": "execute_result"
    }
   ],
   "source": [
    "# get the top named entity types\n",
    "top_entities = (entity_frame.groupby(by=['Entity Type'])\n",
    "                           .size()\n",
    "                           .sort_values(ascending=False)\n",
    "                           .reset_index().rename(columns={0 : 'Frequency'}))\n",
    "top_entities.T.iloc[:,:15]"
   ]
  },
  {
   "cell_type": "code",
   "execution_count": 39,
   "metadata": {},
   "outputs": [],
   "source": [
    "from afinn import Afinn\n",
    "af = Afinn()\n"
   ]
  },
  {
   "cell_type": "code",
   "execution_count": 40,
   "metadata": {},
   "outputs": [],
   "source": [
    "# compute sentiment scores (polarity) and labels\n",
    "sentiment_scores = [af.score(article) for article in corpus]\n",
    "sentiment_category = ['positive' if score > 0 \n",
    "                          else 'negative' if score < 0 \n",
    "                              else 'neutral' \n",
    "                                  for score in sentiment_scores]"
   ]
  },
  {
   "cell_type": "code",
   "execution_count": 41,
   "metadata": {},
   "outputs": [
    {
     "data": {
      "text/html": [
       "<div>\n",
       "<style scoped>\n",
       "    .dataframe tbody tr th:only-of-type {\n",
       "        vertical-align: middle;\n",
       "    }\n",
       "\n",
       "    .dataframe tbody tr th {\n",
       "        vertical-align: top;\n",
       "    }\n",
       "\n",
       "    .dataframe thead tr th {\n",
       "        text-align: left;\n",
       "    }\n",
       "\n",
       "    .dataframe thead tr:last-of-type th {\n",
       "        text-align: right;\n",
       "    }\n",
       "</style>\n",
       "<table border=\"1\" class=\"dataframe\">\n",
       "  <thead>\n",
       "    <tr>\n",
       "      <th></th>\n",
       "      <th colspan=\"8\" halign=\"left\">sentiment_score</th>\n",
       "    </tr>\n",
       "    <tr>\n",
       "      <th></th>\n",
       "      <th>count</th>\n",
       "      <th>mean</th>\n",
       "      <th>std</th>\n",
       "      <th>min</th>\n",
       "      <th>25%</th>\n",
       "      <th>50%</th>\n",
       "      <th>75%</th>\n",
       "      <th>max</th>\n",
       "    </tr>\n",
       "    <tr>\n",
       "      <th>news_category</th>\n",
       "      <th></th>\n",
       "      <th></th>\n",
       "      <th></th>\n",
       "      <th></th>\n",
       "      <th></th>\n",
       "      <th></th>\n",
       "      <th></th>\n",
       "      <th></th>\n",
       "    </tr>\n",
       "  </thead>\n",
       "  <tbody>\n",
       "    <tr>\n",
       "      <td>sports</td>\n",
       "      <td>25.0</td>\n",
       "      <td>1.360000</td>\n",
       "      <td>5.251032</td>\n",
       "      <td>-16.0</td>\n",
       "      <td>-1.00</td>\n",
       "      <td>1.0</td>\n",
       "      <td>4.00</td>\n",
       "      <td>10.0</td>\n",
       "    </tr>\n",
       "    <tr>\n",
       "      <td>technology</td>\n",
       "      <td>25.0</td>\n",
       "      <td>-3.000000</td>\n",
       "      <td>5.338539</td>\n",
       "      <td>-18.0</td>\n",
       "      <td>-6.00</td>\n",
       "      <td>-1.0</td>\n",
       "      <td>1.00</td>\n",
       "      <td>3.0</td>\n",
       "    </tr>\n",
       "    <tr>\n",
       "      <td>world</td>\n",
       "      <td>24.0</td>\n",
       "      <td>-4.416667</td>\n",
       "      <td>7.711745</td>\n",
       "      <td>-30.0</td>\n",
       "      <td>-7.25</td>\n",
       "      <td>-4.5</td>\n",
       "      <td>1.25</td>\n",
       "      <td>6.0</td>\n",
       "    </tr>\n",
       "  </tbody>\n",
       "</table>\n",
       "</div>"
      ],
      "text/plain": [
       "              sentiment_score                                                 \n",
       "                        count      mean       std   min   25%  50%   75%   max\n",
       "news_category                                                                 \n",
       "sports                   25.0  1.360000  5.251032 -16.0 -1.00  1.0  4.00  10.0\n",
       "technology               25.0 -3.000000  5.338539 -18.0 -6.00 -1.0  1.00   3.0\n",
       "world                    24.0 -4.416667  7.711745 -30.0 -7.25 -4.5  1.25   6.0"
      ]
     },
     "execution_count": 41,
     "metadata": {},
     "output_type": "execute_result"
    }
   ],
   "source": [
    "# sentiment statistics per news category\n",
    "df = pd.DataFrame([list(news_df['news_category']), sentiment_scores, sentiment_category]).T\n",
    "df.columns = ['news_category', 'sentiment_score', 'sentiment_category']\n",
    "df['sentiment_score'] = df.sentiment_score.astype('float')\n",
    "df.groupby(by=['news_category']).describe()"
   ]
  },
  {
   "cell_type": "code",
   "execution_count": 42,
   "metadata": {},
   "outputs": [
    {
     "data": {
      "image/png": "[encoded data removed]",
      "text/plain": [
       "<Figure size 1008x288 with 2 Axes>"
      ]
     },
     "metadata": {
      "needs_background": "light"
     },
     "output_type": "display_data"
    }
   ],
   "source": [
    "f, (ax1, ax2) = plt.subplots(1, 2, figsize=(14, 4))\n",
    "sp = sns.stripplot(x='news_category', y=\"sentiment_score\", \n",
    "                   hue='news_category', data=df, ax=ax1)\n",
    "bp = sns.boxplot(x='news_category', y=\"sentiment_score\", \n",
    "                 hue='news_category', data=df, palette=\"Set2\", ax=ax2)\n",
    "t = f.suptitle('Visualizing News Sentiment', fontsize=14)"
   ]
  },
  {
   "cell_type": "code",
   "execution_count": 43,
   "metadata": {},
   "outputs": [
    {
     "name": "stderr",
     "output_type": "stream",
     "text": [
      "/Users/kmallick/opt/anaconda3/lib/python3.7/site-packages/seaborn/categorical.py:3666: UserWarning: The `factorplot` function has been renamed to `catplot`. The original name will be removed in a future release. Please update your code. Note that the default `kind` in `factorplot` (`'point'`) has changed `'strip'` in `catplot`.\n",
      "  warnings.warn(msg)\n"
     ]
    },
    {
     "data": {
      "image/png": "[encoded data removed]",
      "text/plain": [
       "<Figure size 467.5x360 with 1 Axes>"
      ]
     },
     "metadata": {
      "needs_background": "light"
     },
     "output_type": "display_data"
    }
   ],
   "source": [
    "fc = sns.factorplot(x=\"news_category\", hue=\"sentiment_category\", \n",
    "                    data=df, kind=\"count\", \n",
    "                    palette={\"negative\": \"#FE2020\", \n",
    "                             \"positive\": \"#BADD07\", \n",
    "                             \"neutral\": \"#68BFF5\"})"
   ]
  },
  {
   "cell_type": "code",
   "execution_count": 44,
   "metadata": {},
   "outputs": [],
   "source": [
    "pos_idx = df[(df.news_category=='technology') & (df.sentiment_score == 3)].index[0]\n",
    "neg_idx = df[(df.news_category=='technology') & (df.sentiment_score == -18)].index[0]\n"
   ]
  },
  {
   "cell_type": "code",
   "execution_count": 45,
   "metadata": {},
   "outputs": [
    {
     "name": "stdout",
     "output_type": "stream",
     "text": [
      "Most Negative Tech News Article: Twitter has banned thousands of QAnon conspiracy theory accounts and will stop recommending content linked to QAnon to limit the spread of offline harm. The company has already banned 7,000 accounts linked to conspiracy theories and has blocked about 150,000 more. QAnon supporters believe \"deep-state\" traitors are plotting against Donald Trump and have been linked to numerous other false claims. \n",
      "\n",
      "Most Positive Tech News Article: South Korea's largest internet portal Naver has moved backup servers storing its users' personal data in Hong Kong to Singapore. Naver said it is doing so to \"better manage and protect our user data\". It added that it had deleted all data stored in Hong Kong in early July. Earlier, TikTok had announced its decision to exit Hong Kong market.\n"
     ]
    }
   ],
   "source": [
    "\n",
    "print('Most Negative Tech News Article:', news_df.iloc[neg_idx][['news_article']][0])\n",
    "print()\n",
    "print('Most Positive Tech News Article:', news_df.iloc[pos_idx][['news_article']][0])"
   ]
  },
  {
   "cell_type": "code",
   "execution_count": 46,
   "metadata": {},
   "outputs": [],
   "source": [
    "#Sentiment Analysis with TextBlob\n",
    "from textblob import TextBlob"
   ]
  },
  {
   "cell_type": "code",
   "execution_count": 47,
   "metadata": {},
   "outputs": [],
   "source": [
    "# compute sentiment scores (polarity) and labels\n",
    "sentiment_scores_tb = [round(TextBlob(article).sentiment.polarity, 3) for article in news_df['clean_text']]\n",
    "sentiment_category_tb = ['positive' if score > 0 \n",
    "                             else 'negative' if score < 0 \n",
    "                                 else 'neutral' \n",
    "                                     for score in sentiment_scores_tb]\n"
   ]
  },
  {
   "cell_type": "code",
   "execution_count": 48,
   "metadata": {},
   "outputs": [
    {
     "data": {
      "text/html": [
       "<div>\n",
       "<style scoped>\n",
       "    .dataframe tbody tr th:only-of-type {\n",
       "        vertical-align: middle;\n",
       "    }\n",
       "\n",
       "    .dataframe tbody tr th {\n",
       "        vertical-align: top;\n",
       "    }\n",
       "\n",
       "    .dataframe thead tr th {\n",
       "        text-align: left;\n",
       "    }\n",
       "\n",
       "    .dataframe thead tr:last-of-type th {\n",
       "        text-align: right;\n",
       "    }\n",
       "</style>\n",
       "<table border=\"1\" class=\"dataframe\">\n",
       "  <thead>\n",
       "    <tr>\n",
       "      <th></th>\n",
       "      <th colspan=\"8\" halign=\"left\">sentiment_score</th>\n",
       "    </tr>\n",
       "    <tr>\n",
       "      <th></th>\n",
       "      <th>count</th>\n",
       "      <th>mean</th>\n",
       "      <th>std</th>\n",
       "      <th>min</th>\n",
       "      <th>25%</th>\n",
       "      <th>50%</th>\n",
       "      <th>75%</th>\n",
       "      <th>max</th>\n",
       "    </tr>\n",
       "    <tr>\n",
       "      <th>news_category</th>\n",
       "      <th></th>\n",
       "      <th></th>\n",
       "      <th></th>\n",
       "      <th></th>\n",
       "      <th></th>\n",
       "      <th></th>\n",
       "      <th></th>\n",
       "      <th></th>\n",
       "    </tr>\n",
       "  </thead>\n",
       "  <tbody>\n",
       "    <tr>\n",
       "      <td>sports</td>\n",
       "      <td>25.0</td>\n",
       "      <td>0.17104</td>\n",
       "      <td>0.214000</td>\n",
       "      <td>-0.326</td>\n",
       "      <td>0.03300</td>\n",
       "      <td>0.1400</td>\n",
       "      <td>0.30100</td>\n",
       "      <td>0.70</td>\n",
       "    </tr>\n",
       "    <tr>\n",
       "      <td>technology</td>\n",
       "      <td>25.0</td>\n",
       "      <td>-0.03336</td>\n",
       "      <td>0.176191</td>\n",
       "      <td>-0.500</td>\n",
       "      <td>-0.12900</td>\n",
       "      <td>-0.0140</td>\n",
       "      <td>0.07100</td>\n",
       "      <td>0.25</td>\n",
       "    </tr>\n",
       "    <tr>\n",
       "      <td>world</td>\n",
       "      <td>24.0</td>\n",
       "      <td>-0.00325</td>\n",
       "      <td>0.157082</td>\n",
       "      <td>-0.333</td>\n",
       "      <td>-0.07975</td>\n",
       "      <td>-0.0075</td>\n",
       "      <td>0.13375</td>\n",
       "      <td>0.30</td>\n",
       "    </tr>\n",
       "  </tbody>\n",
       "</table>\n",
       "</div>"
      ],
      "text/plain": [
       "              sentiment_score                                             \\\n",
       "                        count     mean       std    min      25%     50%   \n",
       "news_category                                                              \n",
       "sports                   25.0  0.17104  0.214000 -0.326  0.03300  0.1400   \n",
       "technology               25.0 -0.03336  0.176191 -0.500 -0.12900 -0.0140   \n",
       "world                    24.0 -0.00325  0.157082 -0.333 -0.07975 -0.0075   \n",
       "\n",
       "                              \n",
       "                   75%   max  \n",
       "news_category                 \n",
       "sports         0.30100  0.70  \n",
       "technology     0.07100  0.25  \n",
       "world          0.13375  0.30  "
      ]
     },
     "execution_count": 48,
     "metadata": {},
     "output_type": "execute_result"
    }
   ],
   "source": [
    "# sentiment statistics per news category\n",
    "df = pd.DataFrame([list(news_df['news_category']), sentiment_scores_tb, sentiment_category_tb]).T\n",
    "df.columns = ['news_category', 'sentiment_score', 'sentiment_category']\n",
    "df['sentiment_score'] = df.sentiment_score.astype('float')\n",
    "df.groupby(by=['news_category']).describe()"
   ]
  },
  {
   "cell_type": "code",
   "execution_count": 49,
   "metadata": {},
   "outputs": [
    {
     "data": {
      "image/png": "[encoded data removed]",
      "text/plain": [
       "<Figure size 467.5x360 with 1 Axes>"
      ]
     },
     "metadata": {
      "needs_background": "light"
     },
     "output_type": "display_data"
    }
   ],
   "source": [
    "c = sns.factorplot(x=\"news_category\", hue=\"sentiment_category\", \n",
    "                    data=df, kind=\"count\", \n",
    "                    palette={\"negative\": \"#FE2020\", \n",
    "                             \"positive\": \"#BADD07\", \n",
    "                             \"neutral\": \"#68BFF5\"})"
   ]
  },
  {
   "cell_type": "code",
   "execution_count": 50,
   "metadata": {},
   "outputs": [
    {
     "name": "stdout",
     "output_type": "stream",
     "text": [
      "Most Negative technology News Article: Facebook has added a label to US President Donald Trump's post that said mail-in voting would lead to a \"CORRUPT ELECTION\". \"Mail-In Voting, unless changed by the courts, will lead to the most CORRUPT ELECTION in our Nation's History! #RIGGEDELECTION,\" Trump wrote. Facebook's label prompted users to \"get official voting info on how to vote\" from government website.\n",
      "\n",
      "Most Positive technology News Article: Apple CEO Tim Cook has announced that the company's entire business will be carbon neutral by 2030. The company plans to cut emissions by 75% by 2030 while creating innovative carbon removal solutions for the remaining footprint. Notably, Apple cut its carbon footprint by 4.3 million metric tons in 2019 by using recycled content innovations in its products.\n",
      "\n"
     ]
    }
   ],
   "source": [
    "pos_idx = df[(df.news_category=='technology') & (df.sentiment_score == 0.25)].index[0]\n",
    "neg_idx = df[(df.news_category=='technology') & (df.sentiment_score == -0.5)].index[0]\n",
    "\n",
    "print('Most Negative technology News Article:', news_df.iloc[neg_idx][['news_article']][0])\n",
    "print()\n",
    "print('Most Positive technology News Article:', news_df.iloc[pos_idx][['news_article']][0])"
   ]
  },
  {
   "cell_type": "code",
   "execution_count": 51,
   "metadata": {},
   "outputs": [
    {
     "data": {
      "text/plain": [
       "array([[20,  4, 11],\n",
       "       [ 4,  0,  4],\n",
       "       [ 4,  3, 24]])"
      ]
     },
     "execution_count": 51,
     "metadata": {},
     "output_type": "execute_result"
    }
   ],
   "source": [
    "from sklearn import metrics\n",
    "metrics.confusion_matrix(sentiment_category, sentiment_category_tb, \n",
    "                                    labels=['negative', 'neutral', 'positive'])"
   ]
  }
 ],
 "metadata": {
  "kernelspec": {
   "display_name": "Python 3",
   "language": "python",
   "name": "python3"
  },
  "language_info": {
   "codemirror_mode": {
    "name": "ipython",
    "version": 3
   },
   "file_extension": ".py",
   "mimetype": "text/x-python",
   "name": "python",
   "nbconvert_exporter": "python",
   "pygments_lexer": "ipython3",
   "version": "3.7.4"
  }
 },
 "nbformat": 4,
 "nbformat_minor": 2
}
