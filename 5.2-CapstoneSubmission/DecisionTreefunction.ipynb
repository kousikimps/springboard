{
 "cells": [
  {
   "cell_type": "code",
   "execution_count": 1,
   "metadata": {},
   "outputs": [],
   "source": [
    "#Step 1 - function call required\n",
    "def read_files(filepath):\n",
    "    '''\n",
    "    input - File path of input file. \n",
    "    read file and convert into 2d array.\n",
    "    handles only csv format.\n",
    "    returns Column header and dataset into two different variable.\n",
    "    \n",
    "    '''\n",
    "    datastore=[]\n",
    "    with open(filepath,'r') as files:\n",
    "        for line in files.readlines():\n",
    "            lines=line.strip().split(',')\n",
    "            for i in range(len(lines)):\n",
    "                if lines[i][0]=='\"' or lines[i][-1]=='\"':\n",
    "                    lines[i]=lines[i][1:-1]\n",
    "                value=digit_check(lines[i])\n",
    "                if value=='int':\n",
    "                    lines[i]=int(lines[i])\n",
    "                elif value=='float':\n",
    "                    lines[i]=float(lines[i])\n",
    "                else:\n",
    "                    lines[i]=lines[i]\n",
    "            datastore.append(lines)\n",
    "    columns=datastore[0]\n",
    "    dataset=datastore[1:]\n",
    "    return columns,dataset"
   ]
  },
  {
   "cell_type": "code",
   "execution_count": 2,
   "metadata": {},
   "outputs": [],
   "source": [
    "#Step 1.1\n",
    "def digit_check(user_input):\n",
    "    '''\n",
    "    convert string digits into integer / float.\n",
    "    inputs each element of 2d array.\n",
    "    return int/float/string to read_files function.\n",
    "    required - 2d array reads all elements as string char.\n",
    "    '''\n",
    "    try:\n",
    "       val = int(user_input)\n",
    "       return 'int'\n",
    "    except ValueError:\n",
    "      try:\n",
    "        val = float(user_input)\n",
    "        return 'float'\n",
    "      except ValueError:\n",
    "          return 'string'"
   ]
  },
  {
   "cell_type": "code",
   "execution_count": 3,
   "metadata": {
    "scrolled": true
   },
   "outputs": [
    {
     "name": "stdout",
     "output_type": "stream",
     "text": [
      "['', 'id', 'track_name', 'size_bytes', 'currency', 'price', 'rating_count_tot', 'rating_count_ver', 'user_rating', 'user_rating_ver', 'ver', 'cont_rating', 'prime_genre', 'sup_devices.num', 'ipadSc_urls.num', 'lang.num', 'vpp_lic']\n",
      "\n",
      "\n",
      "[[2, 281796108, 'Evernote - stay organized', 158578688, 'USD', 0, 161065, 26, 4, 3.5, '8.2.2', '4+', 'Productivity', 37, 5, 23, 1], [3, 281940292, 'WeatherBug - Local Weathe', ' Radar', ' Maps', 'Alerts', 100524032, 'USD', 0, 188583, 2822, 3.5, 4.5, '5.0.0', '4+', 'Weather', 37, 5, 3, 1], [4, 282614216, 'eBay: Best App to Bu', ' Sell', 'Save! Online Shopping', 128512000, 'USD', 0, 262241, 649, 4, 4.5, '5.10.0', '12+', 'Shopping', 37, 5, 9, 1], [5, 282935706, 'Bible', 92774400, 'USD', 0, 985920, 5320, 4.5, 5, '7.5.1', '4+', 'Reference', 37, 5, 45, 1], [6, 283619399, 'Shanghai Mahjong', 10485713, 'USD', 0.99, 8253, 5516, 4, 4, 1.8, '4+', 'Games', 47, 5, 1, 1], [7, 283646709, 'PayPal - Send and request money safely', 227795968, 'USD', 0, 119487, 879, 4, 4.5, '6.12.0', '4+', 'Finance', 37, 0, 19, 1], [8, 284035177, 'Pandora - Music & Radio', 130242560, 'USD', 0, 1126879, 3594, 4, 4.5, '8.4.1', '12+', 'Music', 37, 4, 1, 1], [9, 284666222, 'PCalc - The Best Calculator', 49250304, 'USD', 9.99, 1117, 4, 4.5, 5, '3.6.6', '4+', 'Utilities', 37, 5, 1, 1], [10, 284736660, 'Ms. PAC-MAN', 70023168, 'USD', 3.99, 7885, 40, 4, 4, '4.0.4', '4+', 'Games', 38, 0, 10, 1], [11, 284791396, 'Solitaire by MobilityWare', 49618944, 'USD', 4.99, 76720, 4017, 4.5, 4.5, '4.10.1', '4+', 'Games', 38, 4, 11, 1], [12, 284815117, 'SCRABBLE Premium', 227547136, 'USD', 7.99, 105776, 166, 3.5, 2.5, '5.19.0', '4+', 'Games', 37, 0, 6, 1], [13, 284815942, 'Google – Search made just for mobile', 179979264, 'USD', 0, 479440, 203, 3.5, 4, 27.0, '17+', 'Utilities', 37, 4, 33, 1], [14, 284847138, 'Bank of America - Mobile Banking', 160925696, 'USD', 0, 119773, 2336, 3.5, 4.5, '7.3.8', '4+', 'Finance', 37, 0, 2, 1], [15, 284862767, 'FreeCell', 55153664, 'USD', 4.99, 6340, 668, 4.5, 4.5, '4.0.3', '4+', 'Games', 38, 5, 2, 1], [16, 284876795, 'TripAdvisor Hotels Flights Restaurants', 207907840, 'USD', 0, 56194, 87, 4, 3.5, 21.1, '4+', 'Travel', 37, 1, 26, 1], [17, 284882215, 'Facebook', 389879808, 'USD', 0, 2974676, 212, 3.5, 3.5, 95.0, '4+', 'Social Networking', 37, 1, 29, 1], [18, 284910350, 'Yelp - Nearby Restaurant', 'Shopping & Services', 167407616, 'USD', 0, 223885, 3726, 4, 4.5, '11.15.0', '12+', 'Travel', 37, 5, 18, 1], [20, 284993459, 'Shazam - Discover musi', ' artists', 'videos & lyrics', 147093504, 'USD', 0, 402925, 136, 4, 4.5, '11.0.3', '12+', 'Music', 37, 3, 16, 1], [21, 285005463, 'Crash Bandicoot Nitro Kart 3D', 10735026, 'USD', 2.99, 31456, 4178, 4, 3.5, '1.0.0', '4+', 'Games', 47, 0, 1, 1]]\n"
     ]
    }
   ],
   "source": [
    "###Demo\n",
    "#columname,dataset=read_files('Iris.csv')\n",
    "columname,dataset=read_files('AppleStore.csv')\n",
    "print(columname)\n",
    "print(\"\\n\")\n",
    "print(dataset[1:20])"
   ]
  },
  {
   "cell_type": "code",
   "execution_count": 4,
   "metadata": {},
   "outputs": [],
   "source": [
    "#Step 2 - Analysis and Null Value Replacement / Feature Selection"
   ]
  },
  {
   "cell_type": "code",
   "execution_count": 5,
   "metadata": {},
   "outputs": [],
   "source": [
    "#Step 3.1\n",
    "import time\n",
    "def random_number(low, high):\n",
    "    \"\"\"\n",
    "    a time based random number generator \n",
    "    uses the random time between a user's input events\n",
    "    returns an integer between low and high-1\n",
    "    \"\"\"\n",
    "    return int(low + int(time.time()*1000) % (high - low))"
   ]
  },
  {
   "cell_type": "code",
   "execution_count": 6,
   "metadata": {},
   "outputs": [],
   "source": [
    "#Step 3.2\n",
    "def random_indices(high,test_size):\n",
    "    '''\n",
    "    generates random sample index.\n",
    "    inputs length of dataset and sample size\n",
    "    returns radom indices\n",
    "    \n",
    "    '''\n",
    "    test_indices=[]\n",
    "    while len(test_indices)<=test_size:\n",
    "        indices=random_number(len(test_indices),high)\n",
    "        test_indices.append(indices)\n",
    "        test_indices = list( dict.fromkeys(test_indices) )\n",
    "    test_indices.sort()\n",
    "    return test_indices"
   ]
  },
  {
   "cell_type": "code",
   "execution_count": 7,
   "metadata": {},
   "outputs": [],
   "source": [
    "# Step 3 - function call required\n",
    "def test_train_split(df,test_size):\n",
    "    '''\n",
    "    input dataset and test size\n",
    "    returns test and training data set\n",
    "    \n",
    "    '''\n",
    "    high=len(df)\n",
    "    train_df=[]\n",
    "    if isinstance(test_size,float):\n",
    "        test_size=round(test_size*len(df))\n",
    "    test_indices = random_indices(high,test_size)\n",
    "    test_df=[df[value] for value in test_indices]\n",
    "    for i in range(len(df)):\n",
    "        if i not in test_indices:\n",
    "            train_df.append(df[i])\n",
    "    return test_df,train_df"
   ]
  },
  {
   "cell_type": "code",
   "execution_count": 8,
   "metadata": {},
   "outputs": [
    {
     "name": "stdout",
     "output_type": "stream",
     "text": [
      "7197\n",
      "6476\n",
      "721\n"
     ]
    }
   ],
   "source": [
    "##Demo\n",
    "test_df,train_df=test_train_split(dataset,.10)\n",
    "print (len(dataset))\n",
    "print (len(train_df))\n",
    "print (len(test_df))"
   ]
  }
 ],
 "metadata": {
  "kernelspec": {
   "display_name": "Python 3",
   "language": "python",
   "name": "python3"
  },
  "language_info": {
   "codemirror_mode": {
    "name": "ipython",
    "version": 3
   },
   "file_extension": ".py",
   "mimetype": "text/x-python",
   "name": "python",
   "nbconvert_exporter": "python",
   "pygments_lexer": "ipython3",
   "version": "3.7.4"
  }
 },
 "nbformat": 4,
 "nbformat_minor": 2
}
