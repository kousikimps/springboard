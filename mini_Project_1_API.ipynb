{
 "cells": [
  {
   "cell_type": "code",
   "execution_count": 277,
   "metadata": {},
   "outputs": [],
   "source": [
    "#Collect data from the Franfurt Stock Exchange, for the ticker AFX_X, for the whole year 2017 (keep in mind that the date format is YYYY-MM-DD).\n",
    "#Convert the returned JSON object into a Python dictionary.\n",
    "#Calculate what the highest and lowest opening prices were for the stock in this period.\n",
    "#What was the largest change in any one day (based on High and Low price)?\n",
    "#What was the largest change between any two days (based on Closing Price)?\n",
    "#What was the average daily trading volume during this year?\n",
    "#(Optional) What was the median trading volume during this year. (Note: you may need to implement your own function for calculating the median.)"
   ]
  },
  {
   "cell_type": "code",
   "execution_count": 278,
   "metadata": {},
   "outputs": [],
   "source": [
    "import requests\n",
    "import json"
   ]
  },
  {
   "cell_type": "code",
   "execution_count": 279,
   "metadata": {},
   "outputs": [],
   "source": [
    "# Store the API key as a string - according to PEP8, constants are always named in all upper case\n",
    "# Pass Your API_KEY. Register  in ###### www.quandl.com\n",
    "API_KEY = '##############'\n"
   ]
  },
  {
   "cell_type": "code",
   "execution_count": 280,
   "metadata": {},
   "outputs": [],
   "source": [
    "# Assignment Variables and Passing Body and Headers\n",
    "EXCHAGE_RATE=\"FSE\"\n",
    "TICKER=\"AFX_X\"\n",
    "body={\"api_key\":API_KEY,\"start_date\":\"2017-01-01\",\"end_date\":\"2017-12-31\"}\n",
    "headers = {\"Content-Type\": \"application/json\"}"
   ]
  },
  {
   "cell_type": "code",
   "execution_count": 281,
   "metadata": {},
   "outputs": [],
   "source": [
    "#API URL of quandl\n",
    "url=\"https://www.quandl.com/api/v3/datasets/\"+EXCHAGE_RATE+\"/\"+TICKER"
   ]
  },
  {
   "cell_type": "code",
   "execution_count": 282,
   "metadata": {},
   "outputs": [],
   "source": [
    "data=requests.get(url,headers=headers,params=body)"
   ]
  },
  {
   "cell_type": "code",
   "execution_count": 283,
   "metadata": {},
   "outputs": [
    {
     "name": "stdout",
     "output_type": "stream",
     "text": [
      "Request Status 200\n"
     ]
    }
   ],
   "source": [
    "#Response Code - 200 means Succeess\n",
    "print (\"Request Status\",data.status_code)"
   ]
  },
  {
   "cell_type": "code",
   "execution_count": 284,
   "metadata": {},
   "outputs": [],
   "source": [
    "json_date=json.loads(data.text)"
   ]
  },
  {
   "cell_type": "code",
   "execution_count": 285,
   "metadata": {},
   "outputs": [],
   "source": [
    "json1=list(json_date.values())[0]"
   ]
  },
  {
   "cell_type": "code",
   "execution_count": 286,
   "metadata": {},
   "outputs": [
    {
     "data": {
      "text/plain": [
       "dict_keys(['id', 'dataset_code', 'database_code', 'name', 'description', 'refreshed_at', 'newest_available_date', 'oldest_available_date', 'column_names', 'frequency', 'type', 'premium', 'limit', 'transform', 'column_index', 'start_date', 'end_date', 'data', 'collapse', 'order', 'database_id'])"
      ]
     },
     "execution_count": 286,
     "metadata": {},
     "output_type": "execute_result"
    }
   ],
   "source": [
    "json1.keys()"
   ]
  },
  {
   "cell_type": "code",
   "execution_count": 287,
   "metadata": {},
   "outputs": [],
   "source": [
    "new_data=json1['data']"
   ]
  },
  {
   "cell_type": "code",
   "execution_count": 288,
   "metadata": {},
   "outputs": [
    {
     "data": {
      "text/plain": [
       "['Date',\n",
       " 'Open',\n",
       " 'High',\n",
       " 'Low',\n",
       " 'Close',\n",
       " 'Change',\n",
       " 'Traded Volume',\n",
       " 'Turnover',\n",
       " 'Last Price of the Day',\n",
       " 'Daily Traded Units',\n",
       " 'Daily Turnover']"
      ]
     },
     "execution_count": 288,
     "metadata": {},
     "output_type": "execute_result"
    }
   ],
   "source": [
    "json1['column_names']"
   ]
  },
  {
   "cell_type": "code",
   "execution_count": 289,
   "metadata": {},
   "outputs": [],
   "source": [
    "high=[]\n",
    "low=[]\n",
    "close=[]\n",
    "high_low_change=[]\n",
    "TradedVolume=[]\n",
    "for val in new_data:\n",
    "    high.append(val[2])\n",
    "    low.append(val[3])\n",
    "    close.append(val[4])\n",
    "    diff=val[2]-val[3]\n",
    "    high_low_change.append(diff)\n",
    "    TradedVolume.append(val[6])\n",
    "\n",
    "close.sort(reverse = True) \n"
   ]
  },
  {
   "cell_type": "code",
   "execution_count": 290,
   "metadata": {},
   "outputs": [],
   "source": [
    "q1=max(high)\n",
    "q2=min(low)\n",
    "#q3=max(close)\n",
    "q4=max(high_low_change)\n",
    "q5=[close[0]-close[-1],close[0]-close[-2]]\n",
    "q6=sum(TradedVolume)/len(TradedVolume)"
   ]
  },
  {
   "cell_type": "code",
   "execution_count": 291,
   "metadata": {},
   "outputs": [],
   "source": [
    "def find_median(values):\n",
    "    datas=sorted(values)\n",
    "    if len(datas)%2!=0:\n",
    "        position1=int((len(datas)+1)/2)\n",
    "        median=[datas[position1-1]]\n",
    "    else:\n",
    "        position1=int((len(datas)+2)/2)\n",
    "        position2=int((len(datas))/2)\n",
    "        median=[datas[position1-1],datas[position2-1]]\n",
    "    return median"
   ]
  },
  {
   "cell_type": "code",
   "execution_count": 292,
   "metadata": {},
   "outputs": [],
   "source": [
    "median=find_median(TradedVolume)"
   ]
  },
  {
   "cell_type": "code",
   "execution_count": 295,
   "metadata": {},
   "outputs": [
    {
     "name": "stdout",
     "output_type": "stream",
     "text": [
      "highest opening prices 53.54\n",
      "lowest opening prices 33.62\n",
      "largest change in any one day (based on High and Low price) 2.8100000000000023\n",
      "largest change between any two days (based on Closing Price) [19.03, 18.92]\n",
      "average daily trading volume during this year 89124.33725490196\n",
      "median trading volume during this year [76286.0]\n"
     ]
    }
   ],
   "source": [
    "print(\"highest opening prices\",q1) \n",
    "print(\"lowest opening prices\",q2) \n",
    "#print(\"Highest Closing\",q3) \n",
    "print(\"largest change in any one day (based on High and Low price)\",q4) \n",
    "print(\"largest change between any two days (based on Closing Price)\",q5)\n",
    "print(\"average daily trading volume during this year\",q6)\n",
    "print (\"median trading volume during this year\",median)"
   ]
  },
  {
   "cell_type": "code",
   "execution_count": null,
   "metadata": {},
   "outputs": [],
   "source": []
  }
 ],
 "metadata": {
  "kernelspec": {
   "display_name": "Python 3",
   "language": "python",
   "name": "python3"
  },
  "language_info": {
   "codemirror_mode": {
    "name": "ipython",
    "version": 3
   },
   "file_extension": ".py",
   "mimetype": "text/x-python",
   "name": "python",
   "nbconvert_exporter": "python",
   "pygments_lexer": "ipython3",
   "version": "3.7.4"
  }
 },
 "nbformat": 4,
 "nbformat_minor": 2
}
